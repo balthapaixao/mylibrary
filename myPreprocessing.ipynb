{
 "cells": [
  {
   "cell_type": "markdown",
   "metadata": {},
   "source": [
    "# Data Preprocessing\n",
    "## Library and dataset loading\n"
   ]
  },
  {
   "cell_type": "code",
   "execution_count": 1,
   "metadata": {},
   "outputs": [
    {
     "name": "stderr",
     "output_type": "stream",
     "text": [
      "Loading required package: caret\n",
      "Warning message:\n",
      "\"package 'caret' was built under R version 3.5.1\"Loading required package: lattice\n",
      "Loading required package: ggplot2\n",
      "Warning message:\n",
      "\"package 'ggplot2' was built under R version 3.5.1\"Loading required package: MASS\n",
      "Loading required package: DMwR\n",
      "Warning message:\n",
      "\"package 'DMwR' was built under R version 3.5.1\"Loading required package: grid\n",
      "Loading required package: dplyr\n",
      "Warning message:\n",
      "\"package 'dplyr' was built under R version 3.5.1\"\n",
      "Attaching package: 'dplyr'\n",
      "\n",
      "The following object is masked from 'package:MASS':\n",
      "\n",
      "    select\n",
      "\n",
      "The following objects are masked from 'package:stats':\n",
      "\n",
      "    filter, lag\n",
      "\n",
      "The following objects are masked from 'package:base':\n",
      "\n",
      "    intersect, setdiff, setequal, union\n",
      "\n"
     ]
    },
    {
     "data": {
      "text/plain": [
       "\n",
       "    setosa versicolor  virginica \n",
       "        50         50         50 "
      ]
     },
     "metadata": {},
     "output_type": "display_data"
    }
   ],
   "source": [
    "source(\"https://raw.githubusercontent.com/eogasawara/mylibrary/master/myPreprocessing.R\")\n",
    "data(iris)\n",
    "table(iris$Species)"
   ]
  },
  {
   "cell_type": "markdown",
   "metadata": {},
   "source": [
    "## Sampling\n",
    "Comparing random sampling with stratified sampling.\n",
    "Sampling using kfolds technique. "
   ]
  },
  {
   "cell_type": "code",
   "execution_count": 2,
   "metadata": {},
   "outputs": [
    {
     "data": {
      "text/plain": [
       "\n",
       "    setosa versicolor  virginica \n",
       "        40         37         43 "
      ]
     },
     "metadata": {},
     "output_type": "display_data"
    },
    {
     "data": {
      "text/plain": [
       "\n",
       "    setosa versicolor  virginica \n",
       "        40         40         40 "
      ]
     },
     "metadata": {},
     "output_type": "display_data"
    }
   ],
   "source": [
    "mysample <- sample.random(iris)\n",
    "table(mysample$sample$Species)\n",
    "\n",
    "mysample <- sample.stratified(iris, \"Species\")\n",
    "table(mysample$sample$Species)"
   ]
  },
  {
   "cell_type": "markdown",
   "metadata": {},
   "source": [
    "random k-fold sampling"
   ]
  },
  {
   "cell_type": "code",
   "execution_count": 3,
   "metadata": {},
   "outputs": [
    {
     "name": "stdout",
     "output_type": "stream",
     "text": [
      "\n",
      "    setosa versicolor  virginica \n",
      "         8         15         14 \n",
      "\n",
      "    setosa versicolor  virginica \n",
      "        18         11          8 \n",
      "\n",
      "    setosa versicolor  virginica \n",
      "        13         16          9 \n",
      "\n",
      "    setosa versicolor  virginica \n",
      "        11          8         19 \n"
     ]
    }
   ],
   "source": [
    "myfolds <- sample.random_kfold(iris, k=4)\n",
    "for (i in (1:length(myfolds)))\n",
    "  print(table(myfolds[[i]]$Species))"
   ]
  },
  {
   "cell_type": "markdown",
   "metadata": {},
   "source": [
    "stratified k-fold sampling"
   ]
  },
  {
   "cell_type": "code",
   "execution_count": 4,
   "metadata": {},
   "outputs": [
    {
     "name": "stdout",
     "output_type": "stream",
     "text": [
      "\n",
      "    setosa versicolor  virginica \n",
      "        13         13         13 \n",
      "\n",
      "    setosa versicolor  virginica \n",
      "        13         13         13 \n",
      "\n",
      "    setosa versicolor  virginica \n",
      "        12         12         12 \n",
      "\n",
      "    setosa versicolor  virginica \n",
      "        12         12         12 \n"
     ]
    }
   ],
   "source": [
    "myfolds <- sample.stratified_kfold(iris, \"Species\", k=4)\n",
    "for (i in (1:length(myfolds)))\n",
    "  print(table(myfolds[[i]]$Species))"
   ]
  },
  {
   "cell_type": "markdown",
   "metadata": {},
   "source": [
    "## Outlier analysis\n"
   ]
  },
  {
   "cell_type": "code",
   "execution_count": 5,
   "metadata": {},
   "outputs": [
    {
     "data": {
      "text/html": [
       "<table>\n",
       "<thead><tr><th></th><th scope=col>Sepal.Length</th><th scope=col>Sepal.Width</th><th scope=col>Petal.Length</th><th scope=col>Petal.Width</th><th scope=col>Species</th></tr></thead>\n",
       "<tbody>\n",
       "\t<tr><th scope=row>16</th><td>5.7       </td><td>4.4       </td><td>1.5       </td><td>0.4       </td><td>setosa    </td></tr>\n",
       "\t<tr><th scope=row>33</th><td>5.2       </td><td>4.1       </td><td>1.5       </td><td>0.1       </td><td>setosa    </td></tr>\n",
       "\t<tr><th scope=row>34</th><td>5.5       </td><td>4.2       </td><td>1.4       </td><td>0.2       </td><td>setosa    </td></tr>\n",
       "\t<tr><th scope=row>61</th><td>5.0       </td><td>2.0       </td><td>3.5       </td><td>1.0       </td><td>versicolor</td></tr>\n",
       "</tbody>\n",
       "</table>\n"
      ],
      "text/latex": [
       "\\begin{tabular}{r|lllll}\n",
       "  & Sepal.Length & Sepal.Width & Petal.Length & Petal.Width & Species\\\\\n",
       "\\hline\n",
       "\t16 & 5.7        & 4.4        & 1.5        & 0.4        & setosa    \\\\\n",
       "\t33 & 5.2        & 4.1        & 1.5        & 0.1        & setosa    \\\\\n",
       "\t34 & 5.5        & 4.2        & 1.4        & 0.2        & setosa    \\\\\n",
       "\t61 & 5.0        & 2.0        & 3.5        & 1.0        & versicolor\\\\\n",
       "\\end{tabular}\n"
      ],
      "text/markdown": [
       "\n",
       "| <!--/--> | Sepal.Length | Sepal.Width | Petal.Length | Petal.Width | Species | \n",
       "|---|---|---|---|\n",
       "| 16 | 5.7        | 4.4        | 1.5        | 0.4        | setosa     | \n",
       "| 33 | 5.2        | 4.1        | 1.5        | 0.1        | setosa     | \n",
       "| 34 | 5.5        | 4.2        | 1.4        | 0.2        | setosa     | \n",
       "| 61 | 5.0        | 2.0        | 3.5        | 1.0        | versicolor | \n",
       "\n",
       "\n"
      ],
      "text/plain": [
       "   Sepal.Length Sepal.Width Petal.Length Petal.Width Species   \n",
       "16 5.7          4.4         1.5          0.4         setosa    \n",
       "33 5.2          4.1         1.5          0.1         setosa    \n",
       "34 5.5          4.2         1.4          0.2         setosa    \n",
       "61 5.0          2.0         3.5          1.0         versicolor"
      ]
     },
     "metadata": {},
     "output_type": "display_data"
    }
   ],
   "source": [
    "out <- outliers.boxplot(iris)\n",
    "myiris <- iris[!out,]\n",
    "head(iris[out,])"
   ]
  },
  {
   "cell_type": "markdown",
   "metadata": {},
   "source": [
    "## min-max normalization"
   ]
  },
  {
   "cell_type": "code",
   "execution_count": 6,
   "metadata": {},
   "outputs": [
    {
     "data": {
      "image/png": "[encoded data removed]",
      "text/plain": [
       "Plot with title \"Histogram of myirism$data$Sepal.Width\""
      ]
     },
     "metadata": {},
     "output_type": "display_data"
    }
   ],
   "source": [
    "myirism <- normalize.minmax(iris)\n",
    "options(repr.plot.width=4, repr.plot.height=4)\n",
    "hist(myirism$data$Sepal.Width)"
   ]
  },
  {
   "cell_type": "markdown",
   "metadata": {},
   "source": [
    "## zscore normalization\n",
    "Ajustado para média 0.5 e desvio padrão de 0.185"
   ]
  },
  {
   "cell_type": "code",
   "execution_count": 7,
   "metadata": {},
   "outputs": [
    {
     "data": {
      "image/png": "[encoded data removed]",
      "text/plain": [
       "Plot with title \"Histogram of myirisz$data$Sepal.Width\""
      ]
     },
     "metadata": {},
     "output_type": "display_data"
    }
   ],
   "source": [
    "myirisz <- normalize.zscore(iris, nmean = 0.5,nsd = 0.5/2.698)\n",
    "options(repr.plot.width=4, repr.plot.height=4)\n",
    "hist(myirisz$data$Sepal.Width)"
   ]
  },
  {
   "cell_type": "markdown",
   "metadata": {},
   "source": [
    "## PCA"
   ]
  },
  {
   "cell_type": "code",
   "execution_count": 8,
   "metadata": {},
   "outputs": [
    {
     "data": {
      "text/html": [
       "<table>\n",
       "<thead><tr><th scope=col>PC1</th><th scope=col>PC2</th></tr></thead>\n",
       "<tbody>\n",
       "\t<tr><td>2.640270 </td><td>-5.204041</td></tr>\n",
       "\t<tr><td>2.670730 </td><td>-4.666910</td></tr>\n",
       "\t<tr><td>2.454606 </td><td>-4.773636</td></tr>\n",
       "\t<tr><td>2.545517 </td><td>-4.648463</td></tr>\n",
       "\t<tr><td>2.561228 </td><td>-5.258629</td></tr>\n",
       "\t<tr><td>2.975946 </td><td>-5.707321</td></tr>\n",
       "</tbody>\n",
       "</table>\n"
      ],
      "text/latex": [
       "\\begin{tabular}{r|ll}\n",
       " PC1 & PC2\\\\\n",
       "\\hline\n",
       "\t 2.640270  & -5.204041\\\\\n",
       "\t 2.670730  & -4.666910\\\\\n",
       "\t 2.454606  & -4.773636\\\\\n",
       "\t 2.545517  & -4.648463\\\\\n",
       "\t 2.561228  & -5.258629\\\\\n",
       "\t 2.975946  & -5.707321\\\\\n",
       "\\end{tabular}\n"
      ],
      "text/markdown": [
       "\n",
       "PC1 | PC2 | \n",
       "|---|---|---|---|---|---|\n",
       "| 2.640270  | -5.204041 | \n",
       "| 2.670730  | -4.666910 | \n",
       "| 2.454606  | -4.773636 | \n",
       "| 2.545517  | -4.648463 | \n",
       "| 2.561228  | -5.258629 | \n",
       "| 2.975946  | -5.707321 | \n",
       "\n",
       "\n"
      ],
      "text/plain": [
       "  PC1      PC2      \n",
       "1 2.640270 -5.204041\n",
       "2 2.670730 -4.666910\n",
       "3 2.454606 -4.773636\n",
       "4 2.545517 -4.648463\n",
       "5 2.561228 -5.258629\n",
       "6 2.975946 -5.707321"
      ]
     },
     "metadata": {},
     "output_type": "display_data"
    },
    {
     "data": {
      "text/html": [
       "<table>\n",
       "<thead><tr><th></th><th scope=col>PC1</th><th scope=col>PC2</th></tr></thead>\n",
       "<tbody>\n",
       "\t<tr><th scope=row>Sepal.Length</th><td> 0.5210659 </td><td>-0.37741762</td></tr>\n",
       "\t<tr><th scope=row>Sepal.Width</th><td>-0.2693474 </td><td>-0.92329566</td></tr>\n",
       "\t<tr><th scope=row>Petal.Length</th><td> 0.5804131 </td><td>-0.02449161</td></tr>\n",
       "\t<tr><th scope=row>Petal.Width</th><td> 0.5648565 </td><td>-0.06694199</td></tr>\n",
       "</tbody>\n",
       "</table>\n"
      ],
      "text/latex": [
       "\\begin{tabular}{r|ll}\n",
       "  & PC1 & PC2\\\\\n",
       "\\hline\n",
       "\tSepal.Length &  0.5210659  & -0.37741762\\\\\n",
       "\tSepal.Width & -0.2693474  & -0.92329566\\\\\n",
       "\tPetal.Length &  0.5804131  & -0.02449161\\\\\n",
       "\tPetal.Width &  0.5648565  & -0.06694199\\\\\n",
       "\\end{tabular}\n"
      ],
      "text/markdown": [
       "\n",
       "| <!--/--> | PC1 | PC2 | \n",
       "|---|---|---|---|\n",
       "| Sepal.Length |  0.5210659  | -0.37741762 | \n",
       "| Sepal.Width | -0.2693474  | -0.92329566 | \n",
       "| Petal.Length |  0.5804131  | -0.02449161 | \n",
       "| Petal.Width |  0.5648565  | -0.06694199 | \n",
       "\n",
       "\n"
      ],
      "text/plain": [
       "             PC1        PC2        \n",
       "Sepal.Length  0.5210659 -0.37741762\n",
       "Sepal.Width  -0.2693474 -0.92329566\n",
       "Petal.Length  0.5804131 -0.02449161\n",
       "Petal.Width   0.5648565 -0.06694199"
      ]
     },
     "metadata": {},
     "output_type": "display_data"
    },
    {
     "data": {
      "image/png": "[encoded data removed]",
      "text/plain": [
       "plot without title"
      ]
     },
     "metadata": {},
     "output_type": "display_data"
    }
   ],
   "source": [
    "options(repr.plot.width=4, repr.plot.height=4)\n",
    "mypca <- dt.pca(iris, \"Species\")\n",
    "head(mypca$pca)\n",
    "head(mypca$pca.transf)"
   ]
  },
  {
   "cell_type": "markdown",
   "metadata": {},
   "source": [
    "## Binning"
   ]
  },
  {
   "cell_type": "code",
   "execution_count": 9,
   "metadata": {},
   "outputs": [
    {
     "name": "stdout",
     "output_type": "stream",
     "text": [
      "  0%  50% 100% \n",
      " 4.3  5.8  7.9 \n",
      "[1] 4.3 6.1 7.9\n",
      "[1] 4.300000 5.889375 7.900000\n",
      "       0% 16.66667% 33.33333%       50% 66.66667% 83.33333%      100% \n",
      "      4.3       5.0       5.4       5.8       6.3       6.7       7.9 \n"
     ]
    },
    {
     "data": {
      "image/png": "[encoded data removed]",
      "text/plain": [
       "plot without title"
      ]
     },
     "metadata": {},
     "output_type": "display_data"
    },
    {
     "name": "stdout",
     "output_type": "stream",
     "text": [
      "[1] 4.3 4.9 5.5 6.1 6.7 7.3 7.9\n"
     ]
    },
    {
     "data": {
      "image/png": "[encoded data removed]",
      "text/plain": [
       "plot without title"
      ]
     },
     "metadata": {},
     "output_type": "display_data"
    },
    {
     "name": "stdout",
     "output_type": "stream",
     "text": [
      "[1] 4.300000 5.148882 5.606944 5.993924 6.470313 7.117045 7.900000\n"
     ]
    },
    {
     "data": {
      "image/png": "[encoded data removed]",
      "text/plain": [
       "plot without title"
      ]
     },
     "metadata": {},
     "output_type": "display_data"
    }
   ],
   "source": [
    "Sepal.Bin.f <- binning.freq(iris$Sepal.Length, n=2)\n",
    "print(Sepal.Bin.f$interval)\n",
    "Sepal.Bin.i <- binning.interval(iris$Sepal.Length, n=2)\n",
    "print(Sepal.Bin.i$interval)\n",
    "Sepal.Bin.c <- binning.cluster(iris$Sepal.Length, n=2)\n",
    "print(Sepal.Bin.c$interval)\n",
    "\n",
    "options(repr.plot.width=4, repr.plot.height=4)\n",
    "\n",
    "Sepal.Bin.fo <- binning.opt(iris$Sepal.Length, binning=binning.freq)\n",
    "print(Sepal.Bin.fo$interval)\n",
    "Sepal.Bin.io <- binning.opt(iris$Sepal.Length, binning=binning.interval)\n",
    "print(Sepal.Bin.io$interval)\n",
    "Sepal.Bin.co <- binning.opt(iris$Sepal.Length, binning=binning.cluster)\n",
    "print(Sepal.Bin.co$interval)"
   ]
  },
  {
   "cell_type": "markdown",
   "metadata": {},
   "source": [
    "## Balancing datasets\n",
    "O dataset myiris foi artificialmente desbalanceado. \n",
    "Duas técnicas para correção foram aplicadas: oversampling e subsampling."
   ]
  },
  {
   "cell_type": "code",
   "execution_count": 10,
   "metadata": {},
   "outputs": [
    {
     "name": "stdout",
     "output_type": "stream",
     "text": [
      "\n",
      "    setosa versicolor  virginica \n",
      "        20         50         11 \n",
      "\n",
      "versicolor  virginica     setosa \n",
      "        50         50         50 \n",
      "\n",
      "    setosa versicolor  virginica \n",
      "        11         11         11 \n"
     ]
    }
   ],
   "source": [
    "#forçando um desbalançeamento\n",
    "myiris <- iris[c(1:20,51:100, 110:120),]\n",
    "print(table(myiris$Species))\n",
    "myiris.bo <- balance.oversampling(myiris, \"Species\")\n",
    "print(table(myiris.bo$Species))\n",
    "myiris.bs <- balance.subsampling(myiris, \"Species\")\n",
    "print(table(myiris.bs$Species))"
   ]
  },
  {
   "cell_type": "markdown",
   "metadata": {},
   "source": [
    "## Categorical mapping"
   ]
  },
  {
   "cell_type": "code",
   "execution_count": 11,
   "metadata": {},
   "outputs": [
    {
     "data": {
      "text/html": [
       "<table>\n",
       "<thead><tr><th scope=col>Sepal.Length</th><th scope=col>Sepal.Width</th><th scope=col>Petal.Length</th><th scope=col>Petal.Width</th><th scope=col>Species</th></tr></thead>\n",
       "<tbody>\n",
       "\t<tr><td>5.1   </td><td>3.5   </td><td>1.4   </td><td>0.2   </td><td>setosa</td></tr>\n",
       "\t<tr><td>4.9   </td><td>3.0   </td><td>1.4   </td><td>0.2   </td><td>setosa</td></tr>\n",
       "\t<tr><td>4.7   </td><td>3.2   </td><td>1.3   </td><td>0.2   </td><td>setosa</td></tr>\n",
       "\t<tr><td>4.6   </td><td>3.1   </td><td>1.5   </td><td>0.2   </td><td>setosa</td></tr>\n",
       "\t<tr><td>5.0   </td><td>3.6   </td><td>1.4   </td><td>0.2   </td><td>setosa</td></tr>\n",
       "\t<tr><td>5.4   </td><td>3.9   </td><td>1.7   </td><td>0.4   </td><td>setosa</td></tr>\n",
       "</tbody>\n",
       "</table>\n"
      ],
      "text/latex": [
       "\\begin{tabular}{r|lllll}\n",
       " Sepal.Length & Sepal.Width & Petal.Length & Petal.Width & Species\\\\\n",
       "\\hline\n",
       "\t 5.1    & 3.5    & 1.4    & 0.2    & setosa\\\\\n",
       "\t 4.9    & 3.0    & 1.4    & 0.2    & setosa\\\\\n",
       "\t 4.7    & 3.2    & 1.3    & 0.2    & setosa\\\\\n",
       "\t 4.6    & 3.1    & 1.5    & 0.2    & setosa\\\\\n",
       "\t 5.0    & 3.6    & 1.4    & 0.2    & setosa\\\\\n",
       "\t 5.4    & 3.9    & 1.7    & 0.4    & setosa\\\\\n",
       "\\end{tabular}\n"
      ],
      "text/markdown": [
       "\n",
       "Sepal.Length | Sepal.Width | Petal.Length | Petal.Width | Species | \n",
       "|---|---|---|---|---|---|\n",
       "| 5.1    | 3.5    | 1.4    | 0.2    | setosa | \n",
       "| 4.9    | 3.0    | 1.4    | 0.2    | setosa | \n",
       "| 4.7    | 3.2    | 1.3    | 0.2    | setosa | \n",
       "| 4.6    | 3.1    | 1.5    | 0.2    | setosa | \n",
       "| 5.0    | 3.6    | 1.4    | 0.2    | setosa | \n",
       "| 5.4    | 3.9    | 1.7    | 0.4    | setosa | \n",
       "\n",
       "\n"
      ],
      "text/plain": [
       "  Sepal.Length Sepal.Width Petal.Length Petal.Width Species\n",
       "1 5.1          3.5         1.4          0.2         setosa \n",
       "2 4.9          3.0         1.4          0.2         setosa \n",
       "3 4.7          3.2         1.3          0.2         setosa \n",
       "4 4.6          3.1         1.5          0.2         setosa \n",
       "5 5.0          3.6         1.4          0.2         setosa \n",
       "6 5.4          3.9         1.7          0.4         setosa "
      ]
     },
     "metadata": {},
     "output_type": "display_data"
    },
    {
     "data": {
      "text/html": [
       "<table>\n",
       "<thead><tr><th scope=col>Sepal.Length</th><th scope=col>Sepal.Width</th><th scope=col>Petal.Length</th><th scope=col>Petal.Width</th><th scope=col>Speciessetosa</th><th scope=col>Speciesversicolor</th><th scope=col>Speciesvirginica</th></tr></thead>\n",
       "<tbody>\n",
       "\t<tr><td>5.1</td><td>3.5</td><td>1.4</td><td>0.2</td><td>1  </td><td>0  </td><td>0  </td></tr>\n",
       "\t<tr><td>4.9</td><td>3.0</td><td>1.4</td><td>0.2</td><td>1  </td><td>0  </td><td>0  </td></tr>\n",
       "\t<tr><td>4.7</td><td>3.2</td><td>1.3</td><td>0.2</td><td>1  </td><td>0  </td><td>0  </td></tr>\n",
       "\t<tr><td>4.6</td><td>3.1</td><td>1.5</td><td>0.2</td><td>1  </td><td>0  </td><td>0  </td></tr>\n",
       "\t<tr><td>5.0</td><td>3.6</td><td>1.4</td><td>0.2</td><td>1  </td><td>0  </td><td>0  </td></tr>\n",
       "\t<tr><td>5.4</td><td>3.9</td><td>1.7</td><td>0.4</td><td>1  </td><td>0  </td><td>0  </td></tr>\n",
       "</tbody>\n",
       "</table>\n"
      ],
      "text/latex": [
       "\\begin{tabular}{r|lllllll}\n",
       " Sepal.Length & Sepal.Width & Petal.Length & Petal.Width & Speciessetosa & Speciesversicolor & Speciesvirginica\\\\\n",
       "\\hline\n",
       "\t 5.1 & 3.5 & 1.4 & 0.2 & 1   & 0   & 0  \\\\\n",
       "\t 4.9 & 3.0 & 1.4 & 0.2 & 1   & 0   & 0  \\\\\n",
       "\t 4.7 & 3.2 & 1.3 & 0.2 & 1   & 0   & 0  \\\\\n",
       "\t 4.6 & 3.1 & 1.5 & 0.2 & 1   & 0   & 0  \\\\\n",
       "\t 5.0 & 3.6 & 1.4 & 0.2 & 1   & 0   & 0  \\\\\n",
       "\t 5.4 & 3.9 & 1.7 & 0.4 & 1   & 0   & 0  \\\\\n",
       "\\end{tabular}\n"
      ],
      "text/markdown": [
       "\n",
       "Sepal.Length | Sepal.Width | Petal.Length | Petal.Width | Speciessetosa | Speciesversicolor | Speciesvirginica | \n",
       "|---|---|---|---|---|---|\n",
       "| 5.1 | 3.5 | 1.4 | 0.2 | 1   | 0   | 0   | \n",
       "| 4.9 | 3.0 | 1.4 | 0.2 | 1   | 0   | 0   | \n",
       "| 4.7 | 3.2 | 1.3 | 0.2 | 1   | 0   | 0   | \n",
       "| 4.6 | 3.1 | 1.5 | 0.2 | 1   | 0   | 0   | \n",
       "| 5.0 | 3.6 | 1.4 | 0.2 | 1   | 0   | 0   | \n",
       "| 5.4 | 3.9 | 1.7 | 0.4 | 1   | 0   | 0   | \n",
       "\n",
       "\n"
      ],
      "text/plain": [
       "  Sepal.Length Sepal.Width Petal.Length Petal.Width Speciessetosa\n",
       "1 5.1          3.5         1.4          0.2         1            \n",
       "2 4.9          3.0         1.4          0.2         1            \n",
       "3 4.7          3.2         1.3          0.2         1            \n",
       "4 4.6          3.1         1.5          0.2         1            \n",
       "5 5.0          3.6         1.4          0.2         1            \n",
       "6 5.4          3.9         1.7          0.4         1            \n",
       "  Speciesversicolor Speciesvirginica\n",
       "1 0                 0               \n",
       "2 0                 0               \n",
       "3 0                 0               \n",
       "4 0                 0               \n",
       "5 0                 0               \n",
       "6 0                 0               "
      ]
     },
     "metadata": {},
     "output_type": "display_data"
    }
   ],
   "source": [
    "head(iris)\n",
    "mycm <- dt.categ_mapping(iris, \"Species\")\n",
    "head(mycm)"
   ]
  },
  {
   "cell_type": "code",
   "execution_count": null,
   "metadata": {
    "collapsed": true
   },
   "outputs": [],
   "source": []
  }
 ],
 "metadata": {
  "kernelspec": {
   "display_name": "R",
   "language": "R",
   "name": "ir"
  },
  "language_info": {
   "codemirror_mode": "r",
   "file_extension": ".r",
   "mimetype": "text/x-r-source",
   "name": "R",
   "pygments_lexer": "r",
   "version": "3.5.0"
  }
 },
 "nbformat": 4,
 "nbformat_minor": 2
}
