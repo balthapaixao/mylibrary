{
 "cells": [
  {
   "cell_type": "markdown",
   "metadata": {},
   "source": [
    "# Pattern Mining\n",
    "## Library\n"
   ]
  },
  {
   "cell_type": "code",
   "execution_count": 41,
   "metadata": {},
   "outputs": [
    {
     "data": {
      "text/html": [
       "<ol class=list-inline>\n",
       "\t<li>48842</li>\n",
       "\t<li>15</li>\n",
       "</ol>\n"
      ],
      "text/latex": [
       "\\begin{enumerate*}\n",
       "\\item 48842\n",
       "\\item 15\n",
       "\\end{enumerate*}\n"
      ],
      "text/markdown": [
       "1. 48842\n",
       "2. 15\n",
       "\n",
       "\n"
      ],
      "text/plain": [
       "[1] 48842    15"
      ]
     },
     "metadata": {},
     "output_type": "display_data"
    }
   ],
   "source": [
    "source(\"https://raw.githubusercontent.com/eogasawara/mylibrary/master/myPreprocessing.R\")\n",
    "loadlibrary(\"arules\")\n",
    "loadlibrary(\"arulesViz\")\n",
    "loadlibrary(\"arulesSequences\")\n",
    "\n",
    "data(AdultUCI)\n",
    "dim(AdultUCI)"
   ]
  },
  {
   "cell_type": "markdown",
   "metadata": {},
   "source": [
    "## Removing attributes"
   ]
  },
  {
   "cell_type": "code",
   "execution_count": 42,
   "metadata": {
    "collapsed": true
   },
   "outputs": [],
   "source": [
    "AdultUCI$fnlwgt <- NULL\n",
    "AdultUCI$\"education-num\" <- NULL\n"
   ]
  },
  {
   "cell_type": "markdown",
   "metadata": {},
   "source": [
    "## Conceptual Hierarchy and Binning"
   ]
  },
  {
   "cell_type": "code",
   "execution_count": 43,
   "metadata": {},
   "outputs": [
    {
     "data": {
      "text/html": [
       "<table>\n",
       "<thead><tr><th scope=col>age</th><th scope=col>workclass</th><th scope=col>education</th><th scope=col>marital-status</th><th scope=col>occupation</th><th scope=col>relationship</th><th scope=col>race</th><th scope=col>sex</th><th scope=col>capital-gain</th><th scope=col>capital-loss</th><th scope=col>hours-per-week</th><th scope=col>native-country</th><th scope=col>income</th></tr></thead>\n",
       "<tbody>\n",
       "\t<tr><td>Middle-aged       </td><td>State-gov         </td><td>Bachelors         </td><td>Never-married     </td><td>Adm-clerical      </td><td>Not-in-family     </td><td>White             </td><td>Male              </td><td>Low               </td><td>None              </td><td>Full-time         </td><td>United-States     </td><td>small             </td></tr>\n",
       "\t<tr><td>Senior            </td><td>Self-emp-not-inc  </td><td>Bachelors         </td><td>Married-civ-spouse</td><td>Exec-managerial   </td><td>Husband           </td><td>White             </td><td>Male              </td><td>None              </td><td>None              </td><td>Part-time         </td><td>United-States     </td><td>small             </td></tr>\n",
       "\t<tr><td>Middle-aged       </td><td>Private           </td><td>HS-grad           </td><td>Divorced          </td><td>Handlers-cleaners </td><td>Not-in-family     </td><td>White             </td><td>Male              </td><td>None              </td><td>None              </td><td>Full-time         </td><td>United-States     </td><td>small             </td></tr>\n",
       "\t<tr><td>Senior            </td><td>Private           </td><td>11th              </td><td>Married-civ-spouse</td><td>Handlers-cleaners </td><td>Husband           </td><td>Black             </td><td>Male              </td><td>None              </td><td>None              </td><td>Full-time         </td><td>United-States     </td><td>small             </td></tr>\n",
       "\t<tr><td>Middle-aged       </td><td>Private           </td><td>Bachelors         </td><td>Married-civ-spouse</td><td>Prof-specialty    </td><td>Wife              </td><td>Black             </td><td>Female            </td><td>None              </td><td>None              </td><td>Full-time         </td><td>Cuba              </td><td>small             </td></tr>\n",
       "\t<tr><td>Middle-aged       </td><td>Private           </td><td>Masters           </td><td>Married-civ-spouse</td><td>Exec-managerial   </td><td>Wife              </td><td>White             </td><td>Female            </td><td>None              </td><td>None              </td><td>Full-time         </td><td>United-States     </td><td>small             </td></tr>\n",
       "</tbody>\n",
       "</table>\n"
      ],
      "text/latex": [
       "\\begin{tabular}{r|lllllllllllll}\n",
       " age & workclass & education & marital-status & occupation & relationship & race & sex & capital-gain & capital-loss & hours-per-week & native-country & income\\\\\n",
       "\\hline\n",
       "\t Middle-aged        & State-gov          & Bachelors          & Never-married      & Adm-clerical       & Not-in-family      & White              & Male               & Low                & None               & Full-time          & United-States      & small             \\\\\n",
       "\t Senior             & Self-emp-not-inc   & Bachelors          & Married-civ-spouse & Exec-managerial    & Husband            & White              & Male               & None               & None               & Part-time          & United-States      & small             \\\\\n",
       "\t Middle-aged        & Private            & HS-grad            & Divorced           & Handlers-cleaners  & Not-in-family      & White              & Male               & None               & None               & Full-time          & United-States      & small             \\\\\n",
       "\t Senior             & Private            & 11th               & Married-civ-spouse & Handlers-cleaners  & Husband            & Black              & Male               & None               & None               & Full-time          & United-States      & small             \\\\\n",
       "\t Middle-aged        & Private            & Bachelors          & Married-civ-spouse & Prof-specialty     & Wife               & Black              & Female             & None               & None               & Full-time          & Cuba               & small             \\\\\n",
       "\t Middle-aged        & Private            & Masters            & Married-civ-spouse & Exec-managerial    & Wife               & White              & Female             & None               & None               & Full-time          & United-States      & small             \\\\\n",
       "\\end{tabular}\n"
      ],
      "text/markdown": [
       "\n",
       "age | workclass | education | marital-status | occupation | relationship | race | sex | capital-gain | capital-loss | hours-per-week | native-country | income | \n",
       "|---|---|---|---|---|---|\n",
       "| Middle-aged        | State-gov          | Bachelors          | Never-married      | Adm-clerical       | Not-in-family      | White              | Male               | Low                | None               | Full-time          | United-States      | small              | \n",
       "| Senior             | Self-emp-not-inc   | Bachelors          | Married-civ-spouse | Exec-managerial    | Husband            | White              | Male               | None               | None               | Part-time          | United-States      | small              | \n",
       "| Middle-aged        | Private            | HS-grad            | Divorced           | Handlers-cleaners  | Not-in-family      | White              | Male               | None               | None               | Full-time          | United-States      | small              | \n",
       "| Senior             | Private            | 11th               | Married-civ-spouse | Handlers-cleaners  | Husband            | Black              | Male               | None               | None               | Full-time          | United-States      | small              | \n",
       "| Middle-aged        | Private            | Bachelors          | Married-civ-spouse | Prof-specialty     | Wife               | Black              | Female             | None               | None               | Full-time          | Cuba               | small              | \n",
       "| Middle-aged        | Private            | Masters            | Married-civ-spouse | Exec-managerial    | Wife               | White              | Female             | None               | None               | Full-time          | United-States      | small              | \n",
       "\n",
       "\n"
      ],
      "text/plain": [
       "  age         workclass        education marital-status     occupation       \n",
       "1 Middle-aged State-gov        Bachelors Never-married      Adm-clerical     \n",
       "2 Senior      Self-emp-not-inc Bachelors Married-civ-spouse Exec-managerial  \n",
       "3 Middle-aged Private          HS-grad   Divorced           Handlers-cleaners\n",
       "4 Senior      Private          11th      Married-civ-spouse Handlers-cleaners\n",
       "5 Middle-aged Private          Bachelors Married-civ-spouse Prof-specialty   \n",
       "6 Middle-aged Private          Masters   Married-civ-spouse Exec-managerial  \n",
       "  relationship  race  sex    capital-gain capital-loss hours-per-week\n",
       "1 Not-in-family White Male   Low          None         Full-time     \n",
       "2 Husband       White Male   None         None         Part-time     \n",
       "3 Not-in-family White Male   None         None         Full-time     \n",
       "4 Husband       Black Male   None         None         Full-time     \n",
       "5 Wife          Black Female None         None         Full-time     \n",
       "6 Wife          White Female None         None         Full-time     \n",
       "  native-country income\n",
       "1 United-States  small \n",
       "2 United-States  small \n",
       "3 United-States  small \n",
       "4 United-States  small \n",
       "5 Cuba           small \n",
       "6 United-States  small "
      ]
     },
     "metadata": {},
     "output_type": "display_data"
    }
   ],
   "source": [
    "AdultUCI$age <- ordered(cut(AdultUCI$age, c(15,25,45,65,100)),\n",
    "                              labels = c(\"Young\", \"Middle-aged\", \"Senior\", \"Old\"))\n",
    "\n",
    "AdultUCI$\"hours-per-week\" <- ordered(cut(AdultUCI$\"hours-per-week\",\n",
    "                                             c(0,25,40,60,168)),\n",
    "                                         labels = c(\"Part-time\", \"Full-time\", \"Over-time\", \"Workaholic\"))\n",
    "\n",
    "AdultUCI$\"capital-gain\" <- ordered(cut(AdultUCI$\"capital-gain\",\n",
    "                                           c(-Inf,0,median(AdultUCI$\"capital-gain\"[AdultUCI$\"capital-gain\">0]),\n",
    "                                             Inf)), labels = c(\"None\", \"Low\", \"High\"))\n",
    "\n",
    "AdultUCI$\"capital-loss\" <- ordered(cut(AdultUCI$\"capital-loss\",\n",
    "                                           c(-Inf,0, median(AdultUCI$\"capital-loss\"[AdultUCI$\"capital-loss\">0]),\n",
    "                                             Inf)), labels = c(\"None\", \"Low\", \"High\"))\n",
    "\n",
    "head(AdultUCI)"
   ]
  },
  {
   "cell_type": "markdown",
   "metadata": {},
   "source": [
    "## Convert to transactions"
   ]
  },
  {
   "cell_type": "code",
   "execution_count": 44,
   "metadata": {
    "collapsed": true
   },
   "outputs": [],
   "source": [
    "AdultTrans <- as(AdultUCI, \"transactions\")\n"
   ]
  },
  {
   "cell_type": "markdown",
   "metadata": {},
   "source": [
    "## A Priori\n"
   ]
  },
  {
   "cell_type": "code",
   "execution_count": 45,
   "metadata": {},
   "outputs": [
    {
     "name": "stdout",
     "output_type": "stream",
     "text": [
      "Apriori\n",
      "\n",
      "Parameter specification:\n",
      " confidence minval smax arem  aval originalSupport maxtime support minlen\n",
      "        0.9    0.1    1 none FALSE            TRUE       5     0.5      2\n",
      " maxlen target   ext\n",
      "     10  rules FALSE\n",
      "\n",
      "Algorithmic control:\n",
      " filter tree heap memopt load sort verbose\n",
      "    0.1 TRUE TRUE  FALSE TRUE    2    TRUE\n",
      "\n",
      "Absolute minimum support count: 24421 \n",
      "\n",
      "set item appearances ...[1 item(s)] done [0.00s].\n",
      "set transactions ...[115 item(s), 48842 transaction(s)] done [0.04s].\n",
      "sorting and recoding items ... [9 item(s)] done [0.00s].\n",
      "creating transaction tree ... done [0.02s].\n",
      "checking subsets of size 1 2 3 4 done [0.00s].\n",
      "writing ... [18 rule(s)] done [0.00s].\n",
      "creating S4 object  ... done [0.00s].\n"
     ]
    },
    {
     "data": {
      "text/html": [
       "<table>\n",
       "<thead><tr><th scope=col>rules</th><th scope=col>support</th><th scope=col>confidence</th><th scope=col>lift</th><th scope=col>count</th></tr></thead>\n",
       "<tbody>\n",
       "\t<tr><td><span style=white-space:pre-wrap>{hours-per-week=Full-time} =&gt; {capital-gain=None}    </span></td><td>0.5435895                                                                                       </td><td>0.9290688                                                                                       </td><td>1.0127342                                                                                       </td><td>26550                                                                                           </td></tr>\n",
       "\t<tr><td><span style=white-space:pre-wrap>{sex=Male} =&gt; {capital-gain=None}                    </span></td><td>0.6050735                                                                                       </td><td>0.9051455                                                                                       </td><td>0.9866565                                                                                       </td><td>29553                                                                                           </td></tr>\n",
       "\t<tr><td><span style=white-space:pre-wrap>{workclass=Private} =&gt; {capital-gain=None}           </span></td><td>0.6413742                                                                                       </td><td>0.9239073                                                                                       </td><td>1.0071078                                                                                       </td><td>31326                                                                                           </td></tr>\n",
       "\t<tr><td><span style=white-space:pre-wrap>{race=White} =&gt; {capital-gain=None}                  </span></td><td>0.7817862                                                                                       </td><td>0.9143240                                                                                       </td><td>0.9966616                                                                                       </td><td>38184                                                                                           </td></tr>\n",
       "\t<tr><td>{native-country=United-States} =&gt; {capital-gain=None}</td><td>0.8219565                                               </td><td>0.9159062                                               </td><td>0.9983862                                               </td><td>40146                                                   </td></tr>\n",
       "\t<tr><td><span style=white-space:pre-wrap>{capital-loss=None} =&gt; {capital-gain=None}           </span></td><td>0.8706646                                                                                       </td><td>0.9133376                                                                                       </td><td>0.9955863                                                                                       </td><td>42525                                                                                           </td></tr>\n",
       "</tbody>\n",
       "</table>\n"
      ],
      "text/latex": [
       "\\begin{tabular}{r|lllll}\n",
       " rules & support & confidence & lift & count\\\\\n",
       "\\hline\n",
       "\t \\{hours-per-week=Full-time\\} => \\{capital-gain=None\\}     & 0.5435895                                                     & 0.9290688                                                     & 1.0127342                                                     & 26550                                                        \\\\\n",
       "\t \\{sex=Male\\} => \\{capital-gain=None\\}                     & 0.6050735                                                     & 0.9051455                                                     & 0.9866565                                                     & 29553                                                        \\\\\n",
       "\t \\{workclass=Private\\} => \\{capital-gain=None\\}            & 0.6413742                                                     & 0.9239073                                                     & 1.0071078                                                     & 31326                                                        \\\\\n",
       "\t \\{race=White\\} => \\{capital-gain=None\\}                   & 0.7817862                                                     & 0.9143240                                                     & 0.9966616                                                     & 38184                                                        \\\\\n",
       "\t \\{native-country=United-States\\} => \\{capital-gain=None\\} & 0.8219565                                                     & 0.9159062                                                     & 0.9983862                                                     & 40146                                                        \\\\\n",
       "\t \\{capital-loss=None\\} => \\{capital-gain=None\\}            & 0.8706646                                                     & 0.9133376                                                     & 0.9955863                                                     & 42525                                                        \\\\\n",
       "\\end{tabular}\n"
      ],
      "text/markdown": [
       "\n",
       "rules | support | confidence | lift | count | \n",
       "|---|---|---|---|---|---|\n",
       "| {hours-per-week=Full-time} => {capital-gain=None}     | 0.5435895                                             | 0.9290688                                             | 1.0127342                                             | 26550                                                 | \n",
       "| {sex=Male} => {capital-gain=None}                     | 0.6050735                                             | 0.9051455                                             | 0.9866565                                             | 29553                                                 | \n",
       "| {workclass=Private} => {capital-gain=None}            | 0.6413742                                             | 0.9239073                                             | 1.0071078                                             | 31326                                                 | \n",
       "| {race=White} => {capital-gain=None}                   | 0.7817862                                             | 0.9143240                                             | 0.9966616                                             | 38184                                                 | \n",
       "| {native-country=United-States} => {capital-gain=None} | 0.8219565                                             | 0.9159062                                             | 0.9983862                                             | 40146                                                 | \n",
       "| {capital-loss=None} => {capital-gain=None}            | 0.8706646                                             | 0.9133376                                             | 0.9955863                                             | 42525                                                 | \n",
       "\n",
       "\n"
      ],
      "text/plain": [
       "  rules                                                 support   confidence\n",
       "1 {hours-per-week=Full-time} => {capital-gain=None}     0.5435895 0.9290688 \n",
       "2 {sex=Male} => {capital-gain=None}                     0.6050735 0.9051455 \n",
       "3 {workclass=Private} => {capital-gain=None}            0.6413742 0.9239073 \n",
       "4 {race=White} => {capital-gain=None}                   0.7817862 0.9143240 \n",
       "5 {native-country=United-States} => {capital-gain=None} 0.8219565 0.9159062 \n",
       "6 {capital-loss=None} => {capital-gain=None}            0.8706646 0.9133376 \n",
       "  lift      count\n",
       "1 1.0127342 26550\n",
       "2 0.9866565 29553\n",
       "3 1.0071078 31326\n",
       "4 0.9966616 38184\n",
       "5 0.9983862 40146\n",
       "6 0.9955863 42525"
      ]
     },
     "metadata": {},
     "output_type": "display_data"
    }
   ],
   "source": [
    "rules <- apriori(AdultTrans, parameter=list(supp = 0.5, conf = 0.9, minlen=2, maxlen= 10, target = \"rules\"), appearance=list(rhs = c(\"capital-gain=None\"),default=\"lhs\"),control=NULL)\n",
    "rules_a <- as(rules, \"data.frame\")\n",
    "head(rules_a)\n",
    "\n"
   ]
  },
  {
   "cell_type": "markdown",
   "metadata": {},
   "source": [
    "## Analysis of Rules"
   ]
  },
  {
   "cell_type": "code",
   "execution_count": 46,
   "metadata": {
    "scrolled": true
   },
   "outputs": [
    {
     "name": "stdout",
     "output_type": "stream",
     "text": [
      "     lhs                               rhs                   support confidence      lift count\n",
      "[1]  {hours-per-week=Full-time}     => {capital-gain=None} 0.5435895  0.9290688 1.0127342 26550\n",
      "[2]  {sex=Male}                     => {capital-gain=None} 0.6050735  0.9051455 0.9866565 29553\n",
      "[3]  {workclass=Private}            => {capital-gain=None} 0.6413742  0.9239073 1.0071078 31326\n",
      "[4]  {race=White}                   => {capital-gain=None} 0.7817862  0.9143240 0.9966616 38184\n",
      "[5]  {native-country=United-States} => {capital-gain=None} 0.8219565  0.9159062 0.9983862 40146\n",
      "[6]  {capital-loss=None}            => {capital-gain=None} 0.8706646  0.9133376 0.9955863 42525\n",
      "[7]  {capital-loss=None,                                                                       \n",
      "      hours-per-week=Full-time}     => {capital-gain=None} 0.5191638  0.9259787 1.0093657 25357\n",
      "[8]  {race=White,                                                                              \n",
      "      sex=Male}                     => {capital-gain=None} 0.5313050  0.9030799 0.9844048 25950\n",
      "[9]  {sex=Male,                                                                                \n",
      "      native-country=United-States} => {capital-gain=None} 0.5406003  0.9035349 0.9849008 26404\n",
      "[10] {workclass=Private,                                                                       \n",
      "      race=White}                   => {capital-gain=None} 0.5472339  0.9208931 1.0038221 26728\n",
      "[11] {workclass=Private,                                                                       \n",
      "      native-country=United-States} => {capital-gain=None} 0.5689570  0.9218444 1.0048592 27789\n",
      "[12] {workclass=Private,                                                                       \n",
      "      capital-loss=None}            => {capital-gain=None} 0.6111748  0.9204465 1.0033354 29851\n",
      "[13] {race=White,                                                                              \n",
      "      native-country=United-States} => {capital-gain=None} 0.7194628  0.9128933 0.9951019 35140\n",
      "[14] {race=White,                                                                              \n",
      "      capital-loss=None}            => {capital-gain=None} 0.7404283  0.9099693 0.9919147 36164\n",
      "[15] {capital-loss=None,                                                                       \n",
      "      native-country=United-States} => {capital-gain=None} 0.7793702  0.9117168 0.9938195 38066\n",
      "[16] {workclass=Private,                                                                       \n",
      "      race=White,                                                                              \n",
      "      capital-loss=None}            => {capital-gain=None} 0.5204742  0.9171628 0.9997559 25421\n",
      "[17] {workclass=Private,                                                                       \n",
      "      capital-loss=None,                                                                       \n",
      "      native-country=United-States} => {capital-gain=None} 0.5414807  0.9182030 1.0008898 26447\n",
      "[18] {race=White,                                                                              \n",
      "      capital-loss=None,                                                                       \n",
      "      native-country=United-States} => {capital-gain=None} 0.6803980  0.9083504 0.9901500 33232\n"
     ]
    }
   ],
   "source": [
    "irules <- inspect(rules)"
   ]
  },
  {
   "cell_type": "code",
   "execution_count": 47,
   "metadata": {},
   "outputs": [
    {
     "data": {
      "text/html": [
       "<table>\n",
       "<thead><tr><th scope=col>support</th><th scope=col>count</th><th scope=col>coverage</th><th scope=col>confidence</th><th scope=col>lift</th><th scope=col>leverage</th><th scope=col>hyperLift</th><th scope=col>hyperConfidence</th><th scope=col>fishersExactTest</th><th scope=col>improvement</th><th scope=col>...</th><th scope=col>casualSupport</th><th scope=col>casualConfidence</th><th scope=col>leastContradiction</th><th scope=col>centeredConfidence</th><th scope=col>varyingLiaison</th><th scope=col>yuleQ</th><th scope=col>yuleY</th><th scope=col>lerman</th><th scope=col>implicationIndex</th><th scope=col>importance</th></tr></thead>\n",
       "<tbody>\n",
       "\t<tr><td>0.5435895   </td><td>26550       </td><td>0.5850907   </td><td>0.9290688   </td><td>1.0127342   </td><td> 0.006835121</td><td>1.0100434   </td><td>1.000000e+00</td><td>1.121041e-28</td><td>Inf         </td><td>...         </td><td>1.419475    </td><td>0.9999976   </td><td>0.5925413   </td><td> 0.011682156</td><td> 0.012734168</td><td> 0.1805312  </td><td> 0.09101332 </td><td> 2.0618407  </td><td>-6.870784   </td><td> 0.013370119</td></tr>\n",
       "\t<tr><td>0.6050735   </td><td>29553       </td><td>0.6684820   </td><td>0.9051455   </td><td>0.9866565   </td><td>-0.008183018</td><td>0.9844437   </td><td>4.037659e-47</td><td>1.000000e+00</td><td>Inf         </td><td>...         </td><td>1.459052    </td><td>0.9999966   </td><td>0.6595621   </td><td>-0.012241193</td><td>-0.013343548</td><td>-0.2604097  </td><td>-0.13249043 </td><td>-2.3093466  </td><td> 7.695561   </td><td>-0.017351596</td></tr>\n",
       "\t<tr><td>0.6413742   </td><td>31326       </td><td>0.6941976   </td><td>0.9239073   </td><td>1.0071078   </td><td> 0.004526583</td><td>1.0050048   </td><td>1.000000e+00</td><td>4.115642e-15</td><td>Inf         </td><td>...         </td><td>1.505938    </td><td>0.9999973   </td><td>0.6991318   </td><td> 0.006520598</td><td> 0.007107796</td><td> 0.1343742  </td><td> 0.06749314 </td><td> 1.2535725  </td><td>-4.177348   </td><td> 0.010154765</td></tr>\n",
       "\t<tr><td>0.7817862   </td><td>38184       </td><td>0.8550428   </td><td>0.9143240   </td><td>0.9966616   </td><td>-0.002618696</td><td>0.9953600   </td><td>3.318642e-10</td><td>1.000000e+00</td><td>Inf         </td><td>...         </td><td>1.625916    </td><td>0.9999966   </td><td>0.8521883   </td><td>-0.003062649</td><td>-0.003338449</td><td>-0.1518210  </td><td>-0.07635304 </td><td>-0.6534489  </td><td> 2.177523   </td><td>-0.009873694</td></tr>\n",
       "\t<tr><td>0.8219565   </td><td>40146       </td><td>0.8974243   </td><td>0.9159062   </td><td>0.9983862   </td><td>-0.001328626</td><td>0.9973170   </td><td>1.488781e-04</td><td>9.998511e-01</td><td>Inf         </td><td>...         </td><td>1.663875    </td><td>0.9999966   </td><td>0.8959761   </td><td>-0.001480488</td><td>-0.001613810</td><td>-0.1016143  </td><td>-0.05093898 </td><td>-0.3236118  </td><td> 1.078389   </td><td>-0.006719212</td></tr>\n",
       "\t<tr><td>0.8706646   </td><td>42525       </td><td>0.9532779   </td><td>0.9133376   </td><td>0.9955863   </td><td>-0.003859867</td><td>0.9948765   </td><td>0.000000e+00</td><td>1.000000e+00</td><td>Inf         </td><td>...         </td><td>1.705438    </td><td>0.9999964   </td><td>0.9490705   </td><td>-0.004049047</td><td>-0.004413675</td><td>-1.0000000  </td><td>-0.99999963 </td><td>-0.9121852  </td><td> 3.039724   </td><td>-0.039186904</td></tr>\n",
       "</tbody>\n",
       "</table>\n"
      ],
      "text/latex": [
       "\\begin{tabular}{r|llllllllllllllllllllllllllllllllllllllllllllll}\n",
       " support & count & coverage & confidence & lift & leverage & hyperLift & hyperConfidence & fishersExactTest & improvement & ... & casualSupport & casualConfidence & leastContradiction & centeredConfidence & varyingLiaison & yuleQ & yuleY & lerman & implicationIndex & importance\\\\\n",
       "\\hline\n",
       "\t 0.5435895    & 26550        & 0.5850907    & 0.9290688    & 1.0127342    &  0.006835121 & 1.0100434    & 1.000000e+00 & 1.121041e-28 & Inf          & ...          & 1.419475     & 0.9999976    & 0.5925413    &  0.011682156 &  0.012734168 &  0.1805312   &  0.09101332  &  2.0618407   & -6.870784    &  0.013370119\\\\\n",
       "\t 0.6050735    & 29553        & 0.6684820    & 0.9051455    & 0.9866565    & -0.008183018 & 0.9844437    & 4.037659e-47 & 1.000000e+00 & Inf          & ...          & 1.459052     & 0.9999966    & 0.6595621    & -0.012241193 & -0.013343548 & -0.2604097   & -0.13249043  & -2.3093466   &  7.695561    & -0.017351596\\\\\n",
       "\t 0.6413742    & 31326        & 0.6941976    & 0.9239073    & 1.0071078    &  0.004526583 & 1.0050048    & 1.000000e+00 & 4.115642e-15 & Inf          & ...          & 1.505938     & 0.9999973    & 0.6991318    &  0.006520598 &  0.007107796 &  0.1343742   &  0.06749314  &  1.2535725   & -4.177348    &  0.010154765\\\\\n",
       "\t 0.7817862    & 38184        & 0.8550428    & 0.9143240    & 0.9966616    & -0.002618696 & 0.9953600    & 3.318642e-10 & 1.000000e+00 & Inf          & ...          & 1.625916     & 0.9999966    & 0.8521883    & -0.003062649 & -0.003338449 & -0.1518210   & -0.07635304  & -0.6534489   &  2.177523    & -0.009873694\\\\\n",
       "\t 0.8219565    & 40146        & 0.8974243    & 0.9159062    & 0.9983862    & -0.001328626 & 0.9973170    & 1.488781e-04 & 9.998511e-01 & Inf          & ...          & 1.663875     & 0.9999966    & 0.8959761    & -0.001480488 & -0.001613810 & -0.1016143   & -0.05093898  & -0.3236118   &  1.078389    & -0.006719212\\\\\n",
       "\t 0.8706646    & 42525        & 0.9532779    & 0.9133376    & 0.9955863    & -0.003859867 & 0.9948765    & 0.000000e+00 & 1.000000e+00 & Inf          & ...          & 1.705438     & 0.9999964    & 0.9490705    & -0.004049047 & -0.004413675 & -1.0000000   & -0.99999963  & -0.9121852   &  3.039724    & -0.039186904\\\\\n",
       "\\end{tabular}\n"
      ],
      "text/markdown": [
       "\n",
       "support | count | coverage | confidence | lift | leverage | hyperLift | hyperConfidence | fishersExactTest | improvement | ... | casualSupport | casualConfidence | leastContradiction | centeredConfidence | varyingLiaison | yuleQ | yuleY | lerman | implicationIndex | importance | \n",
       "|---|---|---|---|---|---|\n",
       "| 0.5435895    | 26550        | 0.5850907    | 0.9290688    | 1.0127342    |  0.006835121 | 1.0100434    | 1.000000e+00 | 1.121041e-28 | Inf          | ...          | 1.419475     | 0.9999976    | 0.5925413    |  0.011682156 |  0.012734168 |  0.1805312   |  0.09101332  |  2.0618407   | -6.870784    |  0.013370119 | \n",
       "| 0.6050735    | 29553        | 0.6684820    | 0.9051455    | 0.9866565    | -0.008183018 | 0.9844437    | 4.037659e-47 | 1.000000e+00 | Inf          | ...          | 1.459052     | 0.9999966    | 0.6595621    | -0.012241193 | -0.013343548 | -0.2604097   | -0.13249043  | -2.3093466   |  7.695561    | -0.017351596 | \n",
       "| 0.6413742    | 31326        | 0.6941976    | 0.9239073    | 1.0071078    |  0.004526583 | 1.0050048    | 1.000000e+00 | 4.115642e-15 | Inf          | ...          | 1.505938     | 0.9999973    | 0.6991318    |  0.006520598 |  0.007107796 |  0.1343742   |  0.06749314  |  1.2535725   | -4.177348    |  0.010154765 | \n",
       "| 0.7817862    | 38184        | 0.8550428    | 0.9143240    | 0.9966616    | -0.002618696 | 0.9953600    | 3.318642e-10 | 1.000000e+00 | Inf          | ...          | 1.625916     | 0.9999966    | 0.8521883    | -0.003062649 | -0.003338449 | -0.1518210   | -0.07635304  | -0.6534489   |  2.177523    | -0.009873694 | \n",
       "| 0.8219565    | 40146        | 0.8974243    | 0.9159062    | 0.9983862    | -0.001328626 | 0.9973170    | 1.488781e-04 | 9.998511e-01 | Inf          | ...          | 1.663875     | 0.9999966    | 0.8959761    | -0.001480488 | -0.001613810 | -0.1016143   | -0.05093898  | -0.3236118   |  1.078389    | -0.006719212 | \n",
       "| 0.8706646    | 42525        | 0.9532779    | 0.9133376    | 0.9955863    | -0.003859867 | 0.9948765    | 0.000000e+00 | 1.000000e+00 | Inf          | ...          | 1.705438     | 0.9999964    | 0.9490705    | -0.004049047 | -0.004413675 | -1.0000000   | -0.99999963  | -0.9121852   |  3.039724    | -0.039186904 | \n",
       "\n",
       "\n"
      ],
      "text/plain": [
       "  support   count coverage  confidence lift      leverage     hyperLift\n",
       "1 0.5435895 26550 0.5850907 0.9290688  1.0127342  0.006835121 1.0100434\n",
       "2 0.6050735 29553 0.6684820 0.9051455  0.9866565 -0.008183018 0.9844437\n",
       "3 0.6413742 31326 0.6941976 0.9239073  1.0071078  0.004526583 1.0050048\n",
       "4 0.7817862 38184 0.8550428 0.9143240  0.9966616 -0.002618696 0.9953600\n",
       "5 0.8219565 40146 0.8974243 0.9159062  0.9983862 -0.001328626 0.9973170\n",
       "6 0.8706646 42525 0.9532779 0.9133376  0.9955863 -0.003859867 0.9948765\n",
       "  hyperConfidence fishersExactTest improvement ... casualSupport\n",
       "1 1.000000e+00    1.121041e-28     Inf         ... 1.419475     \n",
       "2 4.037659e-47    1.000000e+00     Inf         ... 1.459052     \n",
       "3 1.000000e+00    4.115642e-15     Inf         ... 1.505938     \n",
       "4 3.318642e-10    1.000000e+00     Inf         ... 1.625916     \n",
       "5 1.488781e-04    9.998511e-01     Inf         ... 1.663875     \n",
       "6 0.000000e+00    1.000000e+00     Inf         ... 1.705438     \n",
       "  casualConfidence leastContradiction centeredConfidence varyingLiaison\n",
       "1 0.9999976        0.5925413           0.011682156        0.012734168  \n",
       "2 0.9999966        0.6595621          -0.012241193       -0.013343548  \n",
       "3 0.9999973        0.6991318           0.006520598        0.007107796  \n",
       "4 0.9999966        0.8521883          -0.003062649       -0.003338449  \n",
       "5 0.9999966        0.8959761          -0.001480488       -0.001613810  \n",
       "6 0.9999964        0.9490705          -0.004049047       -0.004413675  \n",
       "  yuleQ      yuleY       lerman     implicationIndex importance  \n",
       "1  0.1805312  0.09101332  2.0618407 -6.870784         0.013370119\n",
       "2 -0.2604097 -0.13249043 -2.3093466  7.695561        -0.017351596\n",
       "3  0.1343742  0.06749314  1.2535725 -4.177348         0.010154765\n",
       "4 -0.1518210 -0.07635304 -0.6534489  2.177523        -0.009873694\n",
       "5 -0.1016143 -0.05093898 -0.3236118  1.078389        -0.006719212\n",
       "6 -1.0000000 -0.99999963 -0.9121852  3.039724        -0.039186904"
      ]
     },
     "metadata": {},
     "output_type": "display_data"
    }
   ],
   "source": [
    "imrules <- interestMeasure(rules, transactions = AdultTrans)\n",
    "head(imrules)"
   ]
  },
  {
   "cell_type": "code",
   "execution_count": 48,
   "metadata": {},
   "outputs": [
    {
     "name": "stdout",
     "output_type": "stream",
     "text": [
      "     lhs                               rhs                   support confidence      lift count\n",
      "[1]  {hours-per-week=Full-time}     => {capital-gain=None} 0.5435895  0.9290688 1.0127342 26550\n",
      "[2]  {capital-loss=None,                                                                       \n",
      "      hours-per-week=Full-time}     => {capital-gain=None} 0.5191638  0.9259787 1.0093657 25357\n",
      "[3]  {workclass=Private}            => {capital-gain=None} 0.6413742  0.9239073 1.0071078 31326\n",
      "[4]  {workclass=Private,                                                                       \n",
      "      native-country=United-States} => {capital-gain=None} 0.5689570  0.9218444 1.0048592 27789\n",
      "[5]  {workclass=Private,                                                                       \n",
      "      race=White}                   => {capital-gain=None} 0.5472339  0.9208931 1.0038221 26728\n",
      "[6]  {workclass=Private,                                                                       \n",
      "      capital-loss=None}            => {capital-gain=None} 0.6111748  0.9204465 1.0033354 29851\n",
      "[7]  {workclass=Private,                                                                       \n",
      "      capital-loss=None,                                                                       \n",
      "      native-country=United-States} => {capital-gain=None} 0.5414807  0.9182030 1.0008898 26447\n",
      "[8]  {workclass=Private,                                                                       \n",
      "      race=White,                                                                              \n",
      "      capital-loss=None}            => {capital-gain=None} 0.5204742  0.9171628 0.9997559 25421\n",
      "[9]  {native-country=United-States} => {capital-gain=None} 0.8219565  0.9159062 0.9983862 40146\n",
      "[10] {race=White}                   => {capital-gain=None} 0.7817862  0.9143240 0.9966616 38184\n",
      "[11] {capital-loss=None}            => {capital-gain=None} 0.8706646  0.9133376 0.9955863 42525\n",
      "[12] {race=White,                                                                              \n",
      "      native-country=United-States} => {capital-gain=None} 0.7194628  0.9128933 0.9951019 35140\n",
      "[13] {capital-loss=None,                                                                       \n",
      "      native-country=United-States} => {capital-gain=None} 0.7793702  0.9117168 0.9938195 38066\n",
      "[14] {race=White,                                                                              \n",
      "      capital-loss=None}            => {capital-gain=None} 0.7404283  0.9099693 0.9919147 36164\n",
      "[15] {race=White,                                                                              \n",
      "      capital-loss=None,                                                                       \n",
      "      native-country=United-States} => {capital-gain=None} 0.6803980  0.9083504 0.9901500 33232\n",
      "[16] {sex=Male}                     => {capital-gain=None} 0.6050735  0.9051455 0.9866565 29553\n",
      "[17] {sex=Male,                                                                                \n",
      "      native-country=United-States} => {capital-gain=None} 0.5406003  0.9035349 0.9849008 26404\n",
      "[18] {race=White,                                                                              \n",
      "      sex=Male}                     => {capital-gain=None} 0.5313050  0.9030799 0.9844048 25950\n"
     ]
    }
   ],
   "source": [
    "rules.sorted <- sort(rules, by=\"lift\")\n",
    "inspect(rules.sorted)"
   ]
  },
  {
   "cell_type": "markdown",
   "metadata": {},
   "source": [
    "## Removing redundant rules"
   ]
  },
  {
   "cell_type": "code",
   "execution_count": 49,
   "metadata": {},
   "outputs": [
    {
     "data": {
      "text/html": [
       "<dl class=dl-horizontal>\n",
       "\t<dt>{capital-gain=None,capital-loss=None,hours-per-week=Full-time}</dt>\n",
       "\t\t<dd>2</dd>\n",
       "\t<dt>{workclass=Private,capital-gain=None,native-country=United-States}</dt>\n",
       "\t\t<dd>4</dd>\n",
       "\t<dt>{workclass=Private,race=White,capital-gain=None}</dt>\n",
       "\t\t<dd>5</dd>\n",
       "\t<dt>{workclass=Private,capital-gain=None,capital-loss=None}</dt>\n",
       "\t\t<dd>6</dd>\n",
       "\t<dt>{workclass=Private,capital-gain=None,capital-loss=None,native-country=United-States}</dt>\n",
       "\t\t<dd>7</dd>\n",
       "\t<dt>{workclass=Private,race=White,capital-gain=None,capital-loss=None}</dt>\n",
       "\t\t<dd>8</dd>\n",
       "\t<dt>{race=White,capital-gain=None,native-country=United-States}</dt>\n",
       "\t\t<dd>12</dd>\n",
       "\t<dt>{capital-gain=None,capital-loss=None,native-country=United-States}</dt>\n",
       "\t\t<dd>13</dd>\n",
       "\t<dt>{race=White,capital-gain=None,capital-loss=None}</dt>\n",
       "\t\t<dd>14</dd>\n",
       "\t<dt>{race=White,capital-gain=None,capital-loss=None,native-country=United-States}</dt>\n",
       "\t\t<dd>15</dd>\n",
       "\t<dt>{sex=Male,capital-gain=None,native-country=United-States}</dt>\n",
       "\t\t<dd>17</dd>\n",
       "\t<dt>{race=White,sex=Male,capital-gain=None}</dt>\n",
       "\t\t<dd>18</dd>\n",
       "</dl>\n"
      ],
      "text/latex": [
       "\\begin{description*}\n",
       "\\item[\\textbackslash{}\\{capital-gain=None,capital-loss=None,hours-per-week=Full-time\\textbackslash{}\\}] 2\n",
       "\\item[\\textbackslash{}\\{workclass=Private,capital-gain=None,native-country=United-States\\textbackslash{}\\}] 4\n",
       "\\item[\\textbackslash{}\\{workclass=Private,race=White,capital-gain=None\\textbackslash{}\\}] 5\n",
       "\\item[\\textbackslash{}\\{workclass=Private,capital-gain=None,capital-loss=None\\textbackslash{}\\}] 6\n",
       "\\item[\\textbackslash{}\\{workclass=Private,capital-gain=None,capital-loss=None,native-country=United-States\\textbackslash{}\\}] 7\n",
       "\\item[\\textbackslash{}\\{workclass=Private,race=White,capital-gain=None,capital-loss=None\\textbackslash{}\\}] 8\n",
       "\\item[\\textbackslash{}\\{race=White,capital-gain=None,native-country=United-States\\textbackslash{}\\}] 12\n",
       "\\item[\\textbackslash{}\\{capital-gain=None,capital-loss=None,native-country=United-States\\textbackslash{}\\}] 13\n",
       "\\item[\\textbackslash{}\\{race=White,capital-gain=None,capital-loss=None\\textbackslash{}\\}] 14\n",
       "\\item[\\textbackslash{}\\{race=White,capital-gain=None,capital-loss=None,native-country=United-States\\textbackslash{}\\}] 15\n",
       "\\item[\\textbackslash{}\\{sex=Male,capital-gain=None,native-country=United-States\\textbackslash{}\\}] 17\n",
       "\\item[\\textbackslash{}\\{race=White,sex=Male,capital-gain=None\\textbackslash{}\\}] 18\n",
       "\\end{description*}\n"
      ],
      "text/markdown": [
       "{capital-gain=None,capital-loss=None,hours-per-week=Full-time}\n",
       ":   2{workclass=Private,capital-gain=None,native-country=United-States}\n",
       ":   4{workclass=Private,race=White,capital-gain=None}\n",
       ":   5{workclass=Private,capital-gain=None,capital-loss=None}\n",
       ":   6{workclass=Private,capital-gain=None,capital-loss=None,native-country=United-States}\n",
       ":   7{workclass=Private,race=White,capital-gain=None,capital-loss=None}\n",
       ":   8{race=White,capital-gain=None,native-country=United-States}\n",
       ":   12{capital-gain=None,capital-loss=None,native-country=United-States}\n",
       ":   13{race=White,capital-gain=None,capital-loss=None}\n",
       ":   14{race=White,capital-gain=None,capital-loss=None,native-country=United-States}\n",
       ":   15{sex=Male,capital-gain=None,native-country=United-States}\n",
       ":   17{race=White,sex=Male,capital-gain=None}\n",
       ":   18\n",
       "\n"
      ],
      "text/plain": [
       "                      {capital-gain=None,capital-loss=None,hours-per-week=Full-time} \n",
       "                                                                                   2 \n",
       "                  {workclass=Private,capital-gain=None,native-country=United-States} \n",
       "                                                                                   4 \n",
       "                                    {workclass=Private,race=White,capital-gain=None} \n",
       "                                                                                   5 \n",
       "                             {workclass=Private,capital-gain=None,capital-loss=None} \n",
       "                                                                                   6 \n",
       "{workclass=Private,capital-gain=None,capital-loss=None,native-country=United-States} \n",
       "                                                                                   7 \n",
       "                  {workclass=Private,race=White,capital-gain=None,capital-loss=None} \n",
       "                                                                                   8 \n",
       "                         {race=White,capital-gain=None,native-country=United-States} \n",
       "                                                                                  12 \n",
       "                  {capital-gain=None,capital-loss=None,native-country=United-States} \n",
       "                                                                                  13 \n",
       "                                    {race=White,capital-gain=None,capital-loss=None} \n",
       "                                                                                  14 \n",
       "       {race=White,capital-gain=None,capital-loss=None,native-country=United-States} \n",
       "                                                                                  15 \n",
       "                           {sex=Male,capital-gain=None,native-country=United-States} \n",
       "                                                                                  17 \n",
       "                                             {race=White,sex=Male,capital-gain=None} \n",
       "                                                                                  18 "
      ]
     },
     "metadata": {},
     "output_type": "display_data"
    }
   ],
   "source": [
    "subset.matrix <- is.subset(rules.sorted, rules.sorted)\n",
    "subset.matrix[lower.tri(subset.matrix, diag=TRUE)] <- FALSE\n",
    "redundant <- colSums(subset.matrix, na.rm=TRUE) >= 1\n",
    "which(redundant)\n"
   ]
  },
  {
   "cell_type": "code",
   "execution_count": 50,
   "metadata": {},
   "outputs": [
    {
     "name": "stdout",
     "output_type": "stream",
     "text": [
      "    lhs                               rhs                 support   confidence\n",
      "[1] {hours-per-week=Full-time}     => {capital-gain=None} 0.5435895 0.9290688 \n",
      "[2] {workclass=Private}            => {capital-gain=None} 0.6413742 0.9239073 \n",
      "[3] {native-country=United-States} => {capital-gain=None} 0.8219565 0.9159062 \n",
      "[4] {race=White}                   => {capital-gain=None} 0.7817862 0.9143240 \n",
      "[5] {capital-loss=None}            => {capital-gain=None} 0.8706646 0.9133376 \n",
      "[6] {sex=Male}                     => {capital-gain=None} 0.6050735 0.9051455 \n",
      "    lift      count\n",
      "[1] 1.0127342 26550\n",
      "[2] 1.0071078 31326\n",
      "[3] 0.9983862 40146\n",
      "[4] 0.9966616 38184\n",
      "[5] 0.9955863 42525\n",
      "[6] 0.9866565 29553\n"
     ]
    }
   ],
   "source": [
    "rules.pruned <- rules.sorted[!redundant]\n",
    "inspect(rules.pruned)\n"
   ]
  },
  {
   "cell_type": "markdown",
   "metadata": {},
   "source": [
    "## Rules visualization"
   ]
  },
  {
   "cell_type": "code",
   "execution_count": 51,
   "metadata": {},
   "outputs": [
    {
     "data": {
      "image/png": "[encoded data removed]",
      "text/plain": [
       "plot without title"
      ]
     },
     "metadata": {},
     "output_type": "display_data"
    }
   ],
   "source": [
    "options(repr.plot.width=7, repr.plot.height=4)\n",
    "plot(rules)\n"
   ]
  },
  {
   "cell_type": "code",
   "execution_count": 52,
   "metadata": {},
   "outputs": [
    {
     "data": {
      "image/png": "[encoded data removed]",
      "text/plain": [
       "plot without title"
      ]
     },
     "metadata": {},
     "output_type": "display_data"
    }
   ],
   "source": [
    "options(repr.plot.width=7, repr.plot.height=4)\n",
    "plot(rules, method=\"paracoord\", control=list(reorder=TRUE))"
   ]
  },
  {
   "cell_type": "markdown",
   "metadata": {},
   "source": [
    "# Sequence Mining"
   ]
  },
  {
   "cell_type": "code",
   "execution_count": 53,
   "metadata": {},
   "outputs": [
    {
     "data": {
      "text/html": [
       "<table>\n",
       "<thead><tr><th scope=col>items</th><th scope=col>sequenceID</th><th scope=col>eventID</th><th scope=col>SIZE</th></tr></thead>\n",
       "<tbody>\n",
       "\t<tr><td>{C,D}    </td><td>1        </td><td>10       </td><td>2        </td></tr>\n",
       "\t<tr><td>{A,B,C}  </td><td>1        </td><td>15       </td><td>3        </td></tr>\n",
       "\t<tr><td>{A,B,F}  </td><td>1        </td><td>20       </td><td>3        </td></tr>\n",
       "\t<tr><td>{A,C,D,F}</td><td>1        </td><td>25       </td><td>4        </td></tr>\n",
       "\t<tr><td>{A,B,F}  </td><td>2        </td><td>15       </td><td>3        </td></tr>\n",
       "\t<tr><td>{E}      </td><td>2        </td><td>20       </td><td>1        </td></tr>\n",
       "\t<tr><td>{A,B,F}  </td><td>3        </td><td>10       </td><td>3        </td></tr>\n",
       "\t<tr><td>{D,G,H}  </td><td>4        </td><td>10       </td><td>3        </td></tr>\n",
       "\t<tr><td>{B,F}    </td><td>4        </td><td>20       </td><td>2        </td></tr>\n",
       "\t<tr><td>{A,G,H}  </td><td>4        </td><td>25       </td><td>3        </td></tr>\n",
       "</tbody>\n",
       "</table>\n"
      ],
      "text/latex": [
       "\\begin{tabular}{r|llll}\n",
       " items & sequenceID & eventID & SIZE\\\\\n",
       "\\hline\n",
       "\t \\{C,D\\}     & 1             & 10            & 2            \\\\\n",
       "\t \\{A,B,C\\}   & 1             & 15            & 3            \\\\\n",
       "\t \\{A,B,F\\}   & 1             & 20            & 3            \\\\\n",
       "\t \\{A,C,D,F\\} & 1             & 25            & 4            \\\\\n",
       "\t \\{A,B,F\\}   & 2             & 15            & 3            \\\\\n",
       "\t \\{E\\}       & 2             & 20            & 1            \\\\\n",
       "\t \\{A,B,F\\}   & 3             & 10            & 3            \\\\\n",
       "\t \\{D,G,H\\}   & 4             & 10            & 3            \\\\\n",
       "\t \\{B,F\\}     & 4             & 20            & 2            \\\\\n",
       "\t \\{A,G,H\\}   & 4             & 25            & 3            \\\\\n",
       "\\end{tabular}\n"
      ],
      "text/markdown": [
       "\n",
       "items | sequenceID | eventID | SIZE | \n",
       "|---|---|---|---|---|---|---|---|---|---|\n",
       "| {C,D}     | 1         | 10        | 2         | \n",
       "| {A,B,C}   | 1         | 15        | 3         | \n",
       "| {A,B,F}   | 1         | 20        | 3         | \n",
       "| {A,C,D,F} | 1         | 25        | 4         | \n",
       "| {A,B,F}   | 2         | 15        | 3         | \n",
       "| {E}       | 2         | 20        | 1         | \n",
       "| {A,B,F}   | 3         | 10        | 3         | \n",
       "| {D,G,H}   | 4         | 10        | 3         | \n",
       "| {B,F}     | 4         | 20        | 2         | \n",
       "| {A,G,H}   | 4         | 25        | 3         | \n",
       "\n",
       "\n"
      ],
      "text/plain": [
       "   items     sequenceID eventID SIZE\n",
       "1  {C,D}     1          10      2   \n",
       "2  {A,B,C}   1          15      3   \n",
       "3  {A,B,F}   1          20      3   \n",
       "4  {A,C,D,F} 1          25      4   \n",
       "5  {A,B,F}   2          15      3   \n",
       "6  {E}       2          20      1   \n",
       "7  {A,B,F}   3          10      3   \n",
       "8  {D,G,H}   4          10      3   \n",
       "9  {B,F}     4          20      2   \n",
       "10 {A,G,H}   4          25      3   "
      ]
     },
     "metadata": {},
     "output_type": "display_data"
    }
   ],
   "source": [
    "x <- read_baskets(con = system.file(\"misc\", \"zaki.txt\", package = \"arulesSequences\"), info = c(\"sequenceID\",\"eventID\",\"SIZE\"))\n",
    "as(x, \"data.frame\")\n"
   ]
  },
  {
   "cell_type": "code",
   "execution_count": 54,
   "metadata": {},
   "outputs": [
    {
     "name": "stdout",
     "output_type": "stream",
     "text": [
      "\n",
      "parameter specification:\n",
      "support : 0.4\n",
      "maxsize :  10\n",
      "maxlen  :  10\n",
      "\n",
      "algorithmic control:\n",
      "bfstype  : FALSE\n",
      "verbose  :  TRUE\n",
      "summary  : FALSE\n",
      "tidLists : FALSE\n",
      "\n",
      "preprocessing ... 1 partition(s), 0 MB [0.17s]\n",
      "mining transactions ... 0 MB [0.09s]\n",
      "reading sequences ... [0s]\n",
      "\n",
      "total elapsed time: 0.26s\n"
     ]
    },
    {
     "data": {
      "text/html": [
       "<table>\n",
       "<thead><tr><th scope=col>sequence</th><th scope=col>support</th></tr></thead>\n",
       "<tbody>\n",
       "\t<tr><td><span style=white-space:pre-wrap>&lt;{A}&gt;          </span></td><td>1.00                                                         </td></tr>\n",
       "\t<tr><td><span style=white-space:pre-wrap>&lt;{B}&gt;          </span></td><td>1.00                                                         </td></tr>\n",
       "\t<tr><td><span style=white-space:pre-wrap>&lt;{D}&gt;          </span></td><td>0.50                                                         </td></tr>\n",
       "\t<tr><td><span style=white-space:pre-wrap>&lt;{F}&gt;          </span></td><td>1.00                                                         </td></tr>\n",
       "\t<tr><td><span style=white-space:pre-wrap>&lt;{A,F}&gt;        </span></td><td>0.75                                                         </td></tr>\n",
       "\t<tr><td><span style=white-space:pre-wrap>&lt;{B,F}&gt;        </span></td><td>1.00                                                         </td></tr>\n",
       "\t<tr><td><span style=white-space:pre-wrap>&lt;{D},{F}&gt;      </span></td><td>0.50                                                         </td></tr>\n",
       "\t<tr><td><span style=white-space:pre-wrap>&lt;{D},{B,F}&gt;    </span></td><td>0.50                                                         </td></tr>\n",
       "\t<tr><td><span style=white-space:pre-wrap>&lt;{A,B,F}&gt;      </span></td><td>0.75                                                         </td></tr>\n",
       "\t<tr><td><span style=white-space:pre-wrap>&lt;{A,B}&gt;        </span></td><td>0.75                                                         </td></tr>\n",
       "\t<tr><td><span style=white-space:pre-wrap>&lt;{D},{B}&gt;      </span></td><td>0.50                                                         </td></tr>\n",
       "\t<tr><td><span style=white-space:pre-wrap>&lt;{B},{A}&gt;      </span></td><td>0.50                                                         </td></tr>\n",
       "\t<tr><td><span style=white-space:pre-wrap>&lt;{D},{A}&gt;      </span></td><td>0.50                                                         </td></tr>\n",
       "\t<tr><td><span style=white-space:pre-wrap>&lt;{F},{A}&gt;      </span></td><td>0.50                                                         </td></tr>\n",
       "\t<tr><td><span style=white-space:pre-wrap>&lt;{D},{F},{A}&gt;  </span></td><td>0.50                                                         </td></tr>\n",
       "\t<tr><td><span style=white-space:pre-wrap>&lt;{B,F},{A}&gt;    </span></td><td>0.50                                                         </td></tr>\n",
       "\t<tr><td>&lt;{D},{B,F},{A}&gt;</td><td>0.50                 </td></tr>\n",
       "\t<tr><td><span style=white-space:pre-wrap>&lt;{D},{B},{A}&gt;  </span></td><td>0.50                                                         </td></tr>\n",
       "</tbody>\n",
       "</table>\n"
      ],
      "text/latex": [
       "\\begin{tabular}{r|ll}\n",
       " sequence & support\\\\\n",
       "\\hline\n",
       "\t <\\{A\\}>           & 1.00               \\\\\n",
       "\t <\\{B\\}>           & 1.00               \\\\\n",
       "\t <\\{D\\}>           & 0.50               \\\\\n",
       "\t <\\{F\\}>           & 1.00               \\\\\n",
       "\t <\\{A,F\\}>         & 0.75               \\\\\n",
       "\t <\\{B,F\\}>         & 1.00               \\\\\n",
       "\t <\\{D\\},\\{F\\}>       & 0.50                   \\\\\n",
       "\t <\\{D\\},\\{B,F\\}>     & 0.50                   \\\\\n",
       "\t <\\{A,B,F\\}>       & 0.75               \\\\\n",
       "\t <\\{A,B\\}>         & 0.75               \\\\\n",
       "\t <\\{D\\},\\{B\\}>       & 0.50                   \\\\\n",
       "\t <\\{B\\},\\{A\\}>       & 0.50                   \\\\\n",
       "\t <\\{D\\},\\{A\\}>       & 0.50                   \\\\\n",
       "\t <\\{F\\},\\{A\\}>       & 0.50                   \\\\\n",
       "\t <\\{D\\},\\{F\\},\\{A\\}>   & 0.50                       \\\\\n",
       "\t <\\{B,F\\},\\{A\\}>     & 0.50                   \\\\\n",
       "\t <\\{D\\},\\{B,F\\},\\{A\\}> & 0.50                       \\\\\n",
       "\t <\\{D\\},\\{B\\},\\{A\\}>   & 0.50                       \\\\\n",
       "\\end{tabular}\n"
      ],
      "text/markdown": [
       "\n",
       "sequence | support | \n",
       "|---|---|---|---|---|---|---|---|---|---|---|---|---|---|---|---|---|---|\n",
       "| <{A}>           | 1.00            | \n",
       "| <{B}>           | 1.00            | \n",
       "| <{D}>           | 0.50            | \n",
       "| <{F}>           | 1.00            | \n",
       "| <{A,F}>         | 0.75            | \n",
       "| <{B,F}>         | 1.00            | \n",
       "| <{D},{F}>       | 0.50            | \n",
       "| <{D},{B,F}>     | 0.50            | \n",
       "| <{A,B,F}>       | 0.75            | \n",
       "| <{A,B}>         | 0.75            | \n",
       "| <{D},{B}>       | 0.50            | \n",
       "| <{B},{A}>       | 0.50            | \n",
       "| <{D},{A}>       | 0.50            | \n",
       "| <{F},{A}>       | 0.50            | \n",
       "| <{D},{F},{A}>   | 0.50            | \n",
       "| <{B,F},{A}>     | 0.50            | \n",
       "| <{D},{B,F},{A}> | 0.50            | \n",
       "| <{D},{B},{A}>   | 0.50            | \n",
       "\n",
       "\n"
      ],
      "text/plain": [
       "   sequence        support\n",
       "1  <{A}>           1.00   \n",
       "2  <{B}>           1.00   \n",
       "3  <{D}>           0.50   \n",
       "4  <{F}>           1.00   \n",
       "5  <{A,F}>         0.75   \n",
       "6  <{B,F}>         1.00   \n",
       "7  <{D},{F}>       0.50   \n",
       "8  <{D},{B,F}>     0.50   \n",
       "9  <{A,B,F}>       0.75   \n",
       "10 <{A,B}>         0.75   \n",
       "11 <{D},{B}>       0.50   \n",
       "12 <{B},{A}>       0.50   \n",
       "13 <{D},{A}>       0.50   \n",
       "14 <{F},{A}>       0.50   \n",
       "15 <{D},{F},{A}>   0.50   \n",
       "16 <{B,F},{A}>     0.50   \n",
       "17 <{D},{B,F},{A}> 0.50   \n",
       "18 <{D},{B},{A}>   0.50   "
      ]
     },
     "metadata": {},
     "output_type": "display_data"
    }
   ],
   "source": [
    "s1 <- cspade(x, parameter = list(support = 0.4), control = list(verbose = TRUE))\n",
    "as(s1, \"data.frame\")\n"
   ]
  },
  {
   "cell_type": "code",
   "execution_count": null,
   "metadata": {
    "collapsed": true
   },
   "outputs": [],
   "source": []
  }
 ],
 "metadata": {
  "kernelspec": {
   "display_name": "R",
   "language": "R",
   "name": "ir"
  },
  "language_info": {
   "codemirror_mode": "r",
   "file_extension": ".r",
   "mimetype": "text/x-r-source",
   "name": "R",
   "pygments_lexer": "r",
   "version": "3.5.0"
  }
 },
 "nbformat": 4,
 "nbformat_minor": 2
}
