{
 "cells": [
  {
   "cell_type": "markdown",
   "metadata": {},
   "source": [
    "# Gráficos padronizados em ggplot2\n",
    "## Bibliotecas\n",
    "A biblioteca myGraphics.R tem uma rotina loadlibrary que fica responsável por verificar se os pacotes já estão instalados. Se não estiverem, ele faz a instalação. Após a instalação é feito o carregamento da biblioteca."
   ]
  },
  {
   "cell_type": "code",
   "execution_count": 10,
   "metadata": {},
   "outputs": [
    {
     "name": "stderr",
     "output_type": "stream",
     "text": [
      "Loading required package: gridExtra\n"
     ]
    }
   ],
   "source": [
    "source(\"myGraphics.R\")\n",
    "loadlibrary(\"reshape\")\n",
    "loadlibrary(\"RColorBrewer\")\n",
    "loadlibrary(\"gridExtra\")\n",
    "loadlibrary(\"dplyr\")"
   ]
  },
  {
   "cell_type": "markdown",
   "metadata": {},
   "source": [
    "## Datasets de exemplos\n",
    "As rotinas a seguir produzem todos os dadasets utilizados nos exemplos deste tutorial.\n",
    "\n",
    "As entradas para as rotinas gráficas exigem de uma a quatro colunas básicas, que podem ser uma das combinações entre x, variable, value e colors. Obrigatoriamente a variável value deve fazer parte do dataset. \n",
    "\n",
    "O exemplo da produção do dataset_stackedbar converte um dataset com múltiplas colunas para o padrão necessário para as funções do GGPlot2 por meio da função melt.\n",
    "\n",
    "O último dataset produzido é o de cores usando o color brewer."
   ]
  },
  {
   "cell_type": "code",
   "execution_count": 6,
   "metadata": {},
   "outputs": [],
   "source": [
    "dataset_series <- function() {\n",
    "  series <- data.frame(x= 1:10, sin=sin(1:10), cos=cos(1:10))\n",
    "  series <- melt(series[,c('x','sin','cos')],id.vars = 1)\n",
    "  return(series)  \n",
    "}\n",
    "mydataseries <- dataset_series()\n",
    "\n",
    "dataset_bar <- function() {\n",
    "  series <- matrix(nrow=5, ncol=2)\n",
    "  series[1,] = c(\"janeiro\", 10)\n",
    "  series[2,] = c(\"fevereiro\", 9)\n",
    "  series[3,] = c(\"março\", 11)\n",
    "  series[4,] = c(\"abril\", 8)\n",
    "  series[5,] = c(\"maio\", 12)\n",
    "  series <- data.frame(variable=as.factor(series[,1]), value=as.double(series[,2]))  \n",
    "  return(series)\n",
    "}\n",
    "mydatabar <- dataset_bar()\n",
    "save(mydatabar, file=\"mydatabar.RData\") \n",
    "\n",
    "\n",
    "dataset_stackedbar <- function() {\n",
    "  series <- read.table(text = \"x Map Reduce \n",
    "                          janeiro 10 5\n",
    "                          fevereiro 9 4\n",
    "                          março 11 5\n",
    "                          abril 8 4\n",
    "                          maio 12 6\",header = TRUE,sep = \"\")  \n",
    "  series <- melt(series[,c('x','Map','Reduce')],id.vars = 1)\n",
    "}\n",
    "mydatastackedbar <- dataset_stackedbar()\n",
    "save(mydatastackedbar, file=\"mydatastackedbar.RData\") \n",
    "\n",
    "mynorm <- data.frame(value=rnorm(10000))\n",
    "\n",
    "col.set <- brewer.pal(11, 'Spectral')\n",
    "mycolors <- col.set[c(1,3,5,7,9)]\n",
    "\n",
    "con <- url(\"https://github.com/eogasawara/mylibrary/raw/master/meses.RData\")\n",
    "load(con)\n",
    "\n",
    "con <- url(\"https://github.com/eogasawara/mylibrary/raw/master/mydatabar.RData\")\n",
    "load(con)\n",
    "\n",
    "con <- url(\"https://github.com/eogasawara/mylibrary/raw/master/mydatastackedbar.RData\")\n",
    "load(con)"
   ]
  },
  {
   "cell_type": "markdown",
   "metadata": {},
   "source": [
    "## Plotagem de gráficos de linhas"
   ]
  },
  {
   "cell_type": "code",
   "execution_count": 7,
   "metadata": {},
   "outputs": [
    {
     "data": {
      "image/png": "[encoded data removed]",
      "text/plain": [
       "plot without title"
      ]
     },
     "metadata": {},
     "output_type": "display_data"
    }
   ],
   "source": [
    "grfs <- plot.series(mydataseries,colors=mycolors)\n",
    "options(repr.plot.width=4, repr.plot.height=3)\n",
    "plot(grfs)"
   ]
  },
  {
   "cell_type": "markdown",
   "metadata": {},
   "source": [
    "## Plotagem de gráficos de barra"
   ]
  },
  {
   "cell_type": "code",
   "execution_count": 8,
   "metadata": {},
   "outputs": [
    {
     "data": {
      "image/png": "[encoded data removed]",
      "text/plain": [
       "plot without title"
      ]
     },
     "metadata": {},
     "output_type": "display_data"
    }
   ],
   "source": [
    "grf <- plot.bar(mydatabar, colors=mycolors)\n",
    "options(repr.plot.width=4, repr.plot.height=3)\n",
    "plot(grf)"
   ]
  },
  {
   "cell_type": "markdown",
   "metadata": {},
   "source": [
    "## Plotagem de gráficos de stacked-bar"
   ]
  },
  {
   "cell_type": "code",
   "execution_count": 11,
   "metadata": {},
   "outputs": [
    {
     "data": {
      "image/png": "[encoded data removed]",
      "text/plain": [
       "plot without title"
      ]
     },
     "metadata": {},
     "output_type": "display_data"
    }
   ],
   "source": [
    "grfb <- plot.bar(mydatastackedbar, group=TRUE, colors=mycolors)\n",
    "grfsb <- plot.stackedbar(mydatastackedbar, colors=mycolors)\n",
    "\n",
    "options(repr.plot.width=7, repr.plot.height=3)\n",
    "grid.arrange(grfb, grfsb, ncol=2)"
   ]
  },
  {
   "cell_type": "markdown",
   "metadata": {},
   "source": [
    "## Plotagem de barra agrupados"
   ]
  },
  {
   "cell_type": "code",
   "execution_count": 12,
   "metadata": {},
   "outputs": [
    {
     "data": {
      "image/png": "[encoded data removed]",
      "text/plain": [
       "plot without title"
      ]
     },
     "metadata": {},
     "output_type": "display_data"
    }
   ],
   "source": [
    "grfa <- plot.bar(meses, group=TRUE, colors=mycolors)\n",
    "grfa <- grfa + xlab(\"\")\n",
    "grfa <- grfa + guides(fill=guide_legend(title=\"velocidade\"))\n",
    "grfa <- grfa + ylab(\"anomalias\")\n",
    "grfa <- grfa + facet_wrap(~face, ncol = 3) \n",
    "\n",
    "options(repr.plot.width=7, repr.plot.height=3)\n",
    "plot(grfa)"
   ]
  },
  {
   "cell_type": "markdown",
   "metadata": {},
   "source": [
    "## Plotagem de gráfico de pizza"
   ]
  },
  {
   "cell_type": "code",
   "execution_count": 16,
   "metadata": {},
   "outputs": [
    {
     "data": {
      "image/png": "[encoded data removed]",
      "text/plain": [
       "plot without title"
      ]
     },
     "metadata": {},
     "output_type": "display_data"
    }
   ],
   "source": [
    "mymeses <- filter(meses, (face == \"julho\") & (variable == \"Maior\"))[, c(\"x\", \"value\")]\n",
    "names(mymeses) <- c(\"variable\", \"value\")\n",
    "mymeses$colors <- mycolors\n",
    "mymeses <- prepare.pieplot(mymeses)\n",
    "grfpie <- plot.pieplot(mymeses, label_x = \"julho\", colors=as.character(mymeses$colors))\n",
    "\n",
    "options(repr.plot.width=4, repr.plot.height=3)\n",
    "plot(grfpie)"
   ]
  },
  {
   "cell_type": "markdown",
   "metadata": {},
   "source": [
    "## Plotagem de gráfico de densidade"
   ]
  },
  {
   "cell_type": "code",
   "execution_count": 17,
   "metadata": {},
   "outputs": [
    {
     "data": {
      "image/png": "[encoded data removed]",
      "text/plain": [
       "plot without title"
      ]
     },
     "metadata": {},
     "output_type": "display_data"
    }
   ],
   "source": [
    "series <- data.frame(variable=meses$x, value=meses$value)\n",
    "grfgd <- plot.density(series, label_series = \"distribuição\", colors=mycolors)\n",
    "options(repr.plot.width=4, repr.plot.height=3)\n",
    "plot(grfgd)"
   ]
  },
  {
   "cell_type": "markdown",
   "metadata": {},
   "source": [
    "## Plotagem de histogramas"
   ]
  },
  {
   "cell_type": "code",
   "execution_count": 18,
   "metadata": {},
   "outputs": [
    {
     "name": "stderr",
     "output_type": "stream",
     "text": [
      "`stat_bin()` using `bins = 30`. Pick better value with `binwidth`.\n"
     ]
    },
    {
     "data": {
      "image/png": "[encoded data removed]",
      "text/plain": [
       "plot without title"
      ]
     },
     "metadata": {},
     "output_type": "display_data"
    }
   ],
   "source": [
    "grfgh <- plot.hist(mynorm, label_series = \"distribuição\", colors=mycolors[1])\n",
    "options(repr.plot.width=4, repr.plot.height=3)\n",
    "plot(grfgh)\n"
   ]
  },
  {
   "cell_type": "markdown",
   "metadata": {},
   "source": [
    "Plotagem de box-plot"
   ]
  },
  {
   "cell_type": "code",
   "execution_count": 19,
   "metadata": {},
   "outputs": [
    {
     "data": {
      "image/png": "[encoded data removed]",
      "text/plain": [
       "plot without title"
      ]
     },
     "metadata": {},
     "output_type": "display_data"
    }
   ],
   "source": [
    "grfb <- plot.boxplot(mydataseries, colors=mycolors[1:2])\n",
    "options(repr.plot.width=4, repr.plot.height=3)\n",
    "plot(grfb)\n"
   ]
  },
  {
   "cell_type": "markdown",
   "metadata": {},
   "source": [
    "## Produção direta de PDF a partir dos gráficos"
   ]
  },
  {
   "cell_type": "code",
   "execution_count": 20,
   "metadata": {
    "scrolled": true
   },
   "outputs": [
    {
     "data": {
      "text/html": [
       "<strong>png:</strong> 2"
      ],
      "text/latex": [
       "\\textbf{png:} 2"
      ],
      "text/markdown": [
       "**png:** 2"
      ],
      "text/plain": [
       "png \n",
       "  2 "
      ]
     },
     "metadata": {},
     "output_type": "display_data"
    }
   ],
   "source": [
    "pdf(\"myplot.pdf\", width=7, height=3)\n",
    "plot(grfa)\n",
    "dev.off()\n",
    "\n"
   ]
  },
  {
   "cell_type": "code",
   "execution_count": null,
   "metadata": {
    "collapsed": true
   },
   "outputs": [],
   "source": []
  }
 ],
 "metadata": {
  "kernelspec": {
   "display_name": "R",
   "language": "R",
   "name": "ir"
  },
  "language_info": {
   "codemirror_mode": "r",
   "file_extension": ".r",
   "mimetype": "text/x-r-source",
   "name": "R",
   "pygments_lexer": "r",
   "version": "3.5.0"
  }
 },
 "nbformat": 4,
 "nbformat_minor": 2
}
