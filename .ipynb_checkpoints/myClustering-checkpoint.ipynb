{
 "cells": [
  {
   "cell_type": "markdown",
   "metadata": {},
   "source": [
    "# Clustering\n",
    "## Libraries and Datasets\n"
   ]
  },
  {
   "cell_type": "code",
   "execution_count": 43,
   "metadata": {},
   "outputs": [],
   "source": [
    "source(\"https://raw.githubusercontent.com/eogasawara/mylibrary/master/myclustering.R\")\n",
    "load(url(\"https://github.com/eogasawara/mylibrary/raw/master/data/wine.RData\"))"
   ]
  },
  {
   "cell_type": "markdown",
   "metadata": {},
   "source": [
    "kmeans with 2 clusters"
   ]
  },
  {
   "cell_type": "code",
   "execution_count": 44,
   "metadata": {},
   "outputs": [
    {
     "data": {
      "text/html": [
       "<table>\n",
       "<thead><tr><th scope=col>X1</th><th scope=col>X14.23</th><th scope=col>X1.71</th><th scope=col>X2.43</th><th scope=col>X15.6</th><th scope=col>X127</th><th scope=col>X2.8</th><th scope=col>X3.06</th><th scope=col>X.28</th><th scope=col>X2.29</th><th scope=col>X5.64</th><th scope=col>X1.04</th><th scope=col>X3.92</th><th scope=col>X1065</th><th scope=col>cluster</th></tr></thead>\n",
       "<tbody>\n",
       "\t<tr><td>1    </td><td>13.20</td><td>1.78 </td><td>2.14 </td><td>11.2 </td><td>100  </td><td>2.65 </td><td>2.76 </td><td>0.26 </td><td>1.28 </td><td>4.38 </td><td>1.05 </td><td>3.40 </td><td>1050 </td><td>2    </td></tr>\n",
       "\t<tr><td>1    </td><td>13.16</td><td>2.36 </td><td>2.67 </td><td>18.6 </td><td>101  </td><td>2.80 </td><td>3.24 </td><td>0.30 </td><td>2.81 </td><td>5.68 </td><td>1.03 </td><td>3.17 </td><td>1185 </td><td>2    </td></tr>\n",
       "\t<tr><td>1    </td><td>14.37</td><td>1.95 </td><td>2.50 </td><td>16.8 </td><td>113  </td><td>3.85 </td><td>3.49 </td><td>0.24 </td><td>2.18 </td><td>7.80 </td><td>0.86 </td><td>3.45 </td><td>1480 </td><td>2    </td></tr>\n",
       "\t<tr><td>1    </td><td>13.24</td><td>2.59 </td><td>2.87 </td><td>21.0 </td><td>118  </td><td>2.80 </td><td>2.69 </td><td>0.39 </td><td>1.82 </td><td>4.32 </td><td>1.04 </td><td>2.93 </td><td> 735 </td><td>1    </td></tr>\n",
       "\t<tr><td>1    </td><td>14.20</td><td>1.76 </td><td>2.45 </td><td>15.2 </td><td>112  </td><td>3.27 </td><td>3.39 </td><td>0.34 </td><td>1.97 </td><td>6.75 </td><td>1.05 </td><td>2.85 </td><td>1450 </td><td>2    </td></tr>\n",
       "\t<tr><td>1    </td><td>14.39</td><td>1.87 </td><td>2.45 </td><td>14.6 </td><td> 96  </td><td>2.50 </td><td>2.52 </td><td>0.30 </td><td>1.98 </td><td>5.25 </td><td>1.02 </td><td>3.58 </td><td>1290 </td><td>2    </td></tr>\n",
       "</tbody>\n",
       "</table>\n"
      ],
      "text/latex": [
       "\\begin{tabular}{r|lllllllllllllll}\n",
       " X1 & X14.23 & X1.71 & X2.43 & X15.6 & X127 & X2.8 & X3.06 & X.28 & X2.29 & X5.64 & X1.04 & X3.92 & X1065 & cluster\\\\\n",
       "\\hline\n",
       "\t 1     & 13.20 & 1.78  & 2.14  & 11.2  & 100   & 2.65  & 2.76  & 0.26  & 1.28  & 4.38  & 1.05  & 3.40  & 1050  & 2    \\\\\n",
       "\t 1     & 13.16 & 2.36  & 2.67  & 18.6  & 101   & 2.80  & 3.24  & 0.30  & 2.81  & 5.68  & 1.03  & 3.17  & 1185  & 2    \\\\\n",
       "\t 1     & 14.37 & 1.95  & 2.50  & 16.8  & 113   & 3.85  & 3.49  & 0.24  & 2.18  & 7.80  & 0.86  & 3.45  & 1480  & 2    \\\\\n",
       "\t 1     & 13.24 & 2.59  & 2.87  & 21.0  & 118   & 2.80  & 2.69  & 0.39  & 1.82  & 4.32  & 1.04  & 2.93  &  735  & 1    \\\\\n",
       "\t 1     & 14.20 & 1.76  & 2.45  & 15.2  & 112   & 3.27  & 3.39  & 0.34  & 1.97  & 6.75  & 1.05  & 2.85  & 1450  & 2    \\\\\n",
       "\t 1     & 14.39 & 1.87  & 2.45  & 14.6  &  96   & 2.50  & 2.52  & 0.30  & 1.98  & 5.25  & 1.02  & 3.58  & 1290  & 2    \\\\\n",
       "\\end{tabular}\n"
      ],
      "text/markdown": [
       "\n",
       "X1 | X14.23 | X1.71 | X2.43 | X15.6 | X127 | X2.8 | X3.06 | X.28 | X2.29 | X5.64 | X1.04 | X3.92 | X1065 | cluster | \n",
       "|---|---|---|---|---|---|\n",
       "| 1     | 13.20 | 1.78  | 2.14  | 11.2  | 100   | 2.65  | 2.76  | 0.26  | 1.28  | 4.38  | 1.05  | 3.40  | 1050  | 2     | \n",
       "| 1     | 13.16 | 2.36  | 2.67  | 18.6  | 101   | 2.80  | 3.24  | 0.30  | 2.81  | 5.68  | 1.03  | 3.17  | 1185  | 2     | \n",
       "| 1     | 14.37 | 1.95  | 2.50  | 16.8  | 113   | 3.85  | 3.49  | 0.24  | 2.18  | 7.80  | 0.86  | 3.45  | 1480  | 2     | \n",
       "| 1     | 13.24 | 2.59  | 2.87  | 21.0  | 118   | 2.80  | 2.69  | 0.39  | 1.82  | 4.32  | 1.04  | 2.93  |  735  | 1     | \n",
       "| 1     | 14.20 | 1.76  | 2.45  | 15.2  | 112   | 3.27  | 3.39  | 0.34  | 1.97  | 6.75  | 1.05  | 2.85  | 1450  | 2     | \n",
       "| 1     | 14.39 | 1.87  | 2.45  | 14.6  |  96   | 2.50  | 2.52  | 0.30  | 1.98  | 5.25  | 1.02  | 3.58  | 1290  | 2     | \n",
       "\n",
       "\n"
      ],
      "text/plain": [
       "  X1 X14.23 X1.71 X2.43 X15.6 X127 X2.8 X3.06 X.28 X2.29 X5.64 X1.04 X3.92\n",
       "1 1  13.20  1.78  2.14  11.2  100  2.65 2.76  0.26 1.28  4.38  1.05  3.40 \n",
       "2 1  13.16  2.36  2.67  18.6  101  2.80 3.24  0.30 2.81  5.68  1.03  3.17 \n",
       "3 1  14.37  1.95  2.50  16.8  113  3.85 3.49  0.24 2.18  7.80  0.86  3.45 \n",
       "4 1  13.24  2.59  2.87  21.0  118  2.80 2.69  0.39 1.82  4.32  1.04  2.93 \n",
       "5 1  14.20  1.76  2.45  15.2  112  3.27 3.39  0.34 1.97  6.75  1.05  2.85 \n",
       "6 1  14.39  1.87  2.45  14.6   96  2.50 2.52  0.30 1.98  5.25  1.02  3.58 \n",
       "  X1065 cluster\n",
       "1 1050  2      \n",
       "2 1185  2      \n",
       "3 1480  2      \n",
       "4  735  1      \n",
       "5 1450  2      \n",
       "6 1290  2      "
      ]
     },
     "metadata": {},
     "output_type": "display_data"
    },
    {
     "name": "stdout",
     "output_type": "stream",
     "text": [
      "        1  2  3\n",
      "ctable 58 71 48\n",
      "        9 67 47\n",
      "       49  4  1\n",
      "[1] 1.0859033 0.8898562 0.3548290\n"
     ]
    },
    {
     "data": {
      "image/png": "[encoded data removed]",
      "text/plain": [
       "plot without title"
      ]
     },
     "metadata": {},
     "output_type": "display_data"
    }
   ],
   "source": [
    "kmeans2 <- clust_kmeans(wine, \"X1\", 2)\n",
    "head(kmeans2$data)\n",
    "options(repr.plot.width=4, repr.plot.height=3)\n",
    "plot(kmeans2$plot)\n",
    "print(kmeans2$table)\n",
    "print(kmeans2$entropy)"
   ]
  },
  {
   "cell_type": "markdown",
   "metadata": {},
   "source": [
    "kmeans with 3 clusters"
   ]
  },
  {
   "cell_type": "code",
   "execution_count": 45,
   "metadata": {},
   "outputs": [
    {
     "data": {
      "text/html": [
       "<table>\n",
       "<thead><tr><th scope=col>X1</th><th scope=col>X14.23</th><th scope=col>X1.71</th><th scope=col>X2.43</th><th scope=col>X15.6</th><th scope=col>X127</th><th scope=col>X2.8</th><th scope=col>X3.06</th><th scope=col>X.28</th><th scope=col>X2.29</th><th scope=col>X5.64</th><th scope=col>X1.04</th><th scope=col>X3.92</th><th scope=col>X1065</th><th scope=col>cluster</th></tr></thead>\n",
       "<tbody>\n",
       "\t<tr><td>1    </td><td>13.20</td><td>1.78 </td><td>2.14 </td><td>11.2 </td><td>100  </td><td>2.65 </td><td>2.76 </td><td>0.26 </td><td>1.28 </td><td>4.38 </td><td>1.05 </td><td>3.40 </td><td>1050 </td><td>1    </td></tr>\n",
       "\t<tr><td>1    </td><td>13.16</td><td>2.36 </td><td>2.67 </td><td>18.6 </td><td>101  </td><td>2.80 </td><td>3.24 </td><td>0.30 </td><td>2.81 </td><td>5.68 </td><td>1.03 </td><td>3.17 </td><td>1185 </td><td>1    </td></tr>\n",
       "\t<tr><td>1    </td><td>14.37</td><td>1.95 </td><td>2.50 </td><td>16.8 </td><td>113  </td><td>3.85 </td><td>3.49 </td><td>0.24 </td><td>2.18 </td><td>7.80 </td><td>0.86 </td><td>3.45 </td><td>1480 </td><td>1    </td></tr>\n",
       "\t<tr><td>1    </td><td>13.24</td><td>2.59 </td><td>2.87 </td><td>21.0 </td><td>118  </td><td>2.80 </td><td>2.69 </td><td>0.39 </td><td>1.82 </td><td>4.32 </td><td>1.04 </td><td>2.93 </td><td> 735 </td><td>3    </td></tr>\n",
       "\t<tr><td>1    </td><td>14.20</td><td>1.76 </td><td>2.45 </td><td>15.2 </td><td>112  </td><td>3.27 </td><td>3.39 </td><td>0.34 </td><td>1.97 </td><td>6.75 </td><td>1.05 </td><td>2.85 </td><td>1450 </td><td>1    </td></tr>\n",
       "\t<tr><td>1    </td><td>14.39</td><td>1.87 </td><td>2.45 </td><td>14.6 </td><td> 96  </td><td>2.50 </td><td>2.52 </td><td>0.30 </td><td>1.98 </td><td>5.25 </td><td>1.02 </td><td>3.58 </td><td>1290 </td><td>1    </td></tr>\n",
       "</tbody>\n",
       "</table>\n"
      ],
      "text/latex": [
       "\\begin{tabular}{r|lllllllllllllll}\n",
       " X1 & X14.23 & X1.71 & X2.43 & X15.6 & X127 & X2.8 & X3.06 & X.28 & X2.29 & X5.64 & X1.04 & X3.92 & X1065 & cluster\\\\\n",
       "\\hline\n",
       "\t 1     & 13.20 & 1.78  & 2.14  & 11.2  & 100   & 2.65  & 2.76  & 0.26  & 1.28  & 4.38  & 1.05  & 3.40  & 1050  & 1    \\\\\n",
       "\t 1     & 13.16 & 2.36  & 2.67  & 18.6  & 101   & 2.80  & 3.24  & 0.30  & 2.81  & 5.68  & 1.03  & 3.17  & 1185  & 1    \\\\\n",
       "\t 1     & 14.37 & 1.95  & 2.50  & 16.8  & 113   & 3.85  & 3.49  & 0.24  & 2.18  & 7.80  & 0.86  & 3.45  & 1480  & 1    \\\\\n",
       "\t 1     & 13.24 & 2.59  & 2.87  & 21.0  & 118   & 2.80  & 2.69  & 0.39  & 1.82  & 4.32  & 1.04  & 2.93  &  735  & 3    \\\\\n",
       "\t 1     & 14.20 & 1.76  & 2.45  & 15.2  & 112   & 3.27  & 3.39  & 0.34  & 1.97  & 6.75  & 1.05  & 2.85  & 1450  & 1    \\\\\n",
       "\t 1     & 14.39 & 1.87  & 2.45  & 14.6  &  96   & 2.50  & 2.52  & 0.30  & 1.98  & 5.25  & 1.02  & 3.58  & 1290  & 1    \\\\\n",
       "\\end{tabular}\n"
      ],
      "text/markdown": [
       "\n",
       "X1 | X14.23 | X1.71 | X2.43 | X15.6 | X127 | X2.8 | X3.06 | X.28 | X2.29 | X5.64 | X1.04 | X3.92 | X1065 | cluster | \n",
       "|---|---|---|---|---|---|\n",
       "| 1     | 13.20 | 1.78  | 2.14  | 11.2  | 100   | 2.65  | 2.76  | 0.26  | 1.28  | 4.38  | 1.05  | 3.40  | 1050  | 1     | \n",
       "| 1     | 13.16 | 2.36  | 2.67  | 18.6  | 101   | 2.80  | 3.24  | 0.30  | 2.81  | 5.68  | 1.03  | 3.17  | 1185  | 1     | \n",
       "| 1     | 14.37 | 1.95  | 2.50  | 16.8  | 113   | 3.85  | 3.49  | 0.24  | 2.18  | 7.80  | 0.86  | 3.45  | 1480  | 1     | \n",
       "| 1     | 13.24 | 2.59  | 2.87  | 21.0  | 118   | 2.80  | 2.69  | 0.39  | 1.82  | 4.32  | 1.04  | 2.93  |  735  | 3     | \n",
       "| 1     | 14.20 | 1.76  | 2.45  | 15.2  | 112   | 3.27  | 3.39  | 0.34  | 1.97  | 6.75  | 1.05  | 2.85  | 1450  | 1     | \n",
       "| 1     | 14.39 | 1.87  | 2.45  | 14.6  |  96   | 2.50  | 2.52  | 0.30  | 1.98  | 5.25  | 1.02  | 3.58  | 1290  | 1     | \n",
       "\n",
       "\n"
      ],
      "text/plain": [
       "  X1 X14.23 X1.71 X2.43 X15.6 X127 X2.8 X3.06 X.28 X2.29 X5.64 X1.04 X3.92\n",
       "1 1  13.20  1.78  2.14  11.2  100  2.65 2.76  0.26 1.28  4.38  1.05  3.40 \n",
       "2 1  13.16  2.36  2.67  18.6  101  2.80 3.24  0.30 2.81  5.68  1.03  3.17 \n",
       "3 1  14.37  1.95  2.50  16.8  113  3.85 3.49  0.24 2.18  7.80  0.86  3.45 \n",
       "4 1  13.24  2.59  2.87  21.0  118  2.80 2.69  0.39 1.82  4.32  1.04  2.93 \n",
       "5 1  14.20  1.76  2.45  15.2  112  3.27 3.39  0.34 1.97  6.75  1.05  2.85 \n",
       "6 1  14.39  1.87  2.45  14.6   96  2.50 2.52  0.30 1.98  5.25  1.02  3.58 \n",
       "  X1065 cluster\n",
       "1 1050  1      \n",
       "2 1185  1      \n",
       "3 1480  1      \n",
       "4  735  3      \n",
       "5 1450  1      \n",
       "6 1290  1      "
      ]
     },
     "metadata": {},
     "output_type": "display_data"
    },
    {
     "name": "stdout",
     "output_type": "stream",
     "text": [
      "        1  2  3\n",
      "ctable 58 71 48\n",
      "       45  1  0\n",
      "        0 50 19\n",
      "       13 20 29\n",
      "[1] 1.0859033 0.1047324 0.5885197 1.0479317\n"
     ]
    },
    {
     "data": {
      "image/png": "[encoded data removed]",
      "text/plain": [
       "plot without title"
      ]
     },
     "metadata": {},
     "output_type": "display_data"
    }
   ],
   "source": [
    "kmeans3 <- clust_kmeans(wine, \"X1\", 3)\n",
    "head(kmeans3$data)\n",
    "options(repr.plot.width=4, repr.plot.height=3)\n",
    "plot(kmeans3$plot)\n",
    "print(kmeans3$table)\n",
    "print(kmeans3$entropy)"
   ]
  },
  {
   "cell_type": "markdown",
   "metadata": {},
   "source": [
    "preprocessing dataset"
   ]
  },
  {
   "cell_type": "markdown",
   "metadata": {},
   "source": [
    "computing good k"
   ]
  },
  {
   "cell_type": "code",
   "execution_count": 46,
   "metadata": {},
   "outputs": [
    {
     "data": {
      "image/png": "[encoded data removed]",
      "text/plain": [
       "plot without title"
      ]
     },
     "metadata": {},
     "output_type": "display_data"
    }
   ],
   "source": [
    "winen <- wine\n",
    "winen$X1 <- NULL\n",
    "kmeans_b <- clust_kmeans_best(winen)\n",
    "options(repr.plot.width=4, repr.plot.height=3)\n",
    "plot(kmeans_b$x,kmeans_b$y)"
   ]
  },
  {
   "cell_type": "code",
   "execution_count": 47,
   "metadata": {},
   "outputs": [
    {
     "data": {
      "text/html": [
       "<table>\n",
       "<thead><tr><th scope=col>X1</th><th scope=col>X14.23</th><th scope=col>X1.71</th><th scope=col>X2.43</th><th scope=col>X15.6</th><th scope=col>X127</th><th scope=col>X2.8</th><th scope=col>X3.06</th><th scope=col>X.28</th><th scope=col>X2.29</th><th scope=col>X5.64</th><th scope=col>X1.04</th><th scope=col>X3.92</th><th scope=col>X1065</th><th scope=col>cluster</th></tr></thead>\n",
       "<tbody>\n",
       "\t<tr><td>1    </td><td>13.20</td><td>1.78 </td><td>2.14 </td><td>11.2 </td><td>100  </td><td>2.65 </td><td>2.76 </td><td>0.26 </td><td>1.28 </td><td>4.38 </td><td>1.05 </td><td>3.40 </td><td>1050 </td><td>3    </td></tr>\n",
       "\t<tr><td>1    </td><td>13.16</td><td>2.36 </td><td>2.67 </td><td>18.6 </td><td>101  </td><td>2.80 </td><td>3.24 </td><td>0.30 </td><td>2.81 </td><td>5.68 </td><td>1.03 </td><td>3.17 </td><td>1185 </td><td>3    </td></tr>\n",
       "\t<tr><td>1    </td><td>14.37</td><td>1.95 </td><td>2.50 </td><td>16.8 </td><td>113  </td><td>3.85 </td><td>3.49 </td><td>0.24 </td><td>2.18 </td><td>7.80 </td><td>0.86 </td><td>3.45 </td><td>1480 </td><td>1    </td></tr>\n",
       "\t<tr><td>1    </td><td>13.24</td><td>2.59 </td><td>2.87 </td><td>21.0 </td><td>118  </td><td>2.80 </td><td>2.69 </td><td>0.39 </td><td>1.82 </td><td>4.32 </td><td>1.04 </td><td>2.93 </td><td> 735 </td><td>4    </td></tr>\n",
       "\t<tr><td>1    </td><td>14.20</td><td>1.76 </td><td>2.45 </td><td>15.2 </td><td>112  </td><td>3.27 </td><td>3.39 </td><td>0.34 </td><td>1.97 </td><td>6.75 </td><td>1.05 </td><td>2.85 </td><td>1450 </td><td>1    </td></tr>\n",
       "\t<tr><td>1    </td><td>14.39</td><td>1.87 </td><td>2.45 </td><td>14.6 </td><td> 96  </td><td>2.50 </td><td>2.52 </td><td>0.30 </td><td>1.98 </td><td>5.25 </td><td>1.02 </td><td>3.58 </td><td>1290 </td><td>1    </td></tr>\n",
       "</tbody>\n",
       "</table>\n"
      ],
      "text/latex": [
       "\\begin{tabular}{r|lllllllllllllll}\n",
       " X1 & X14.23 & X1.71 & X2.43 & X15.6 & X127 & X2.8 & X3.06 & X.28 & X2.29 & X5.64 & X1.04 & X3.92 & X1065 & cluster\\\\\n",
       "\\hline\n",
       "\t 1     & 13.20 & 1.78  & 2.14  & 11.2  & 100   & 2.65  & 2.76  & 0.26  & 1.28  & 4.38  & 1.05  & 3.40  & 1050  & 3    \\\\\n",
       "\t 1     & 13.16 & 2.36  & 2.67  & 18.6  & 101   & 2.80  & 3.24  & 0.30  & 2.81  & 5.68  & 1.03  & 3.17  & 1185  & 3    \\\\\n",
       "\t 1     & 14.37 & 1.95  & 2.50  & 16.8  & 113   & 3.85  & 3.49  & 0.24  & 2.18  & 7.80  & 0.86  & 3.45  & 1480  & 1    \\\\\n",
       "\t 1     & 13.24 & 2.59  & 2.87  & 21.0  & 118   & 2.80  & 2.69  & 0.39  & 1.82  & 4.32  & 1.04  & 2.93  &  735  & 4    \\\\\n",
       "\t 1     & 14.20 & 1.76  & 2.45  & 15.2  & 112   & 3.27  & 3.39  & 0.34  & 1.97  & 6.75  & 1.05  & 2.85  & 1450  & 1    \\\\\n",
       "\t 1     & 14.39 & 1.87  & 2.45  & 14.6  &  96   & 2.50  & 2.52  & 0.30  & 1.98  & 5.25  & 1.02  & 3.58  & 1290  & 1    \\\\\n",
       "\\end{tabular}\n"
      ],
      "text/markdown": [
       "\n",
       "X1 | X14.23 | X1.71 | X2.43 | X15.6 | X127 | X2.8 | X3.06 | X.28 | X2.29 | X5.64 | X1.04 | X3.92 | X1065 | cluster | \n",
       "|---|---|---|---|---|---|\n",
       "| 1     | 13.20 | 1.78  | 2.14  | 11.2  | 100   | 2.65  | 2.76  | 0.26  | 1.28  | 4.38  | 1.05  | 3.40  | 1050  | 3     | \n",
       "| 1     | 13.16 | 2.36  | 2.67  | 18.6  | 101   | 2.80  | 3.24  | 0.30  | 2.81  | 5.68  | 1.03  | 3.17  | 1185  | 3     | \n",
       "| 1     | 14.37 | 1.95  | 2.50  | 16.8  | 113   | 3.85  | 3.49  | 0.24  | 2.18  | 7.80  | 0.86  | 3.45  | 1480  | 1     | \n",
       "| 1     | 13.24 | 2.59  | 2.87  | 21.0  | 118   | 2.80  | 2.69  | 0.39  | 1.82  | 4.32  | 1.04  | 2.93  |  735  | 4     | \n",
       "| 1     | 14.20 | 1.76  | 2.45  | 15.2  | 112   | 3.27  | 3.39  | 0.34  | 1.97  | 6.75  | 1.05  | 2.85  | 1450  | 1     | \n",
       "| 1     | 14.39 | 1.87  | 2.45  | 14.6  |  96   | 2.50  | 2.52  | 0.30  | 1.98  | 5.25  | 1.02  | 3.58  | 1290  | 1     | \n",
       "\n",
       "\n"
      ],
      "text/plain": [
       "  X1 X14.23 X1.71 X2.43 X15.6 X127 X2.8 X3.06 X.28 X2.29 X5.64 X1.04 X3.92\n",
       "1 1  13.20  1.78  2.14  11.2  100  2.65 2.76  0.26 1.28  4.38  1.05  3.40 \n",
       "2 1  13.16  2.36  2.67  18.6  101  2.80 3.24  0.30 2.81  5.68  1.03  3.17 \n",
       "3 1  14.37  1.95  2.50  16.8  113  3.85 3.49  0.24 2.18  7.80  0.86  3.45 \n",
       "4 1  13.24  2.59  2.87  21.0  118  2.80 2.69  0.39 1.82  4.32  1.04  2.93 \n",
       "5 1  14.20  1.76  2.45  15.2  112  3.27 3.39  0.34 1.97  6.75  1.05  2.85 \n",
       "6 1  14.39  1.87  2.45  14.6   96  2.50 2.52  0.30 1.98  5.25  1.02  3.58 \n",
       "  X1065 cluster\n",
       "1 1050  3      \n",
       "2 1185  3      \n",
       "3 1480  1      \n",
       "4  735  4      \n",
       "5 1450  1      \n",
       "6 1290  1      "
      ]
     },
     "metadata": {},
     "output_type": "display_data"
    },
    {
     "name": "stdout",
     "output_type": "stream",
     "text": [
      "        1  2  3\n",
      "ctable 58 71 48\n",
      "       20  0  0\n",
      "        0 45 12\n",
      "       25  1  0\n",
      "       12  5  9\n",
      "        1 20 27\n",
      "[1] 1.0859033 0.0000000 0.5146532 0.1630236 1.0411315 0.7690710\n"
     ]
    },
    {
     "data": {
      "image/png": "[encoded data removed]",
      "text/plain": [
       "plot without title"
      ]
     },
     "metadata": {},
     "output_type": "display_data"
    }
   ],
   "source": [
    "kmeans5 <- clust_kmeans(wine, \"X1\", 5)\n",
    "head(kmeans5$data)\n",
    "options(repr.plot.width=4, repr.plot.height=3)\n",
    "plot(kmeans5$plot)\n",
    "print(kmeans5$table)\n",
    "print(kmeans5$entropy)"
   ]
  },
  {
   "cell_type": "code",
   "execution_count": 48,
   "metadata": {},
   "outputs": [],
   "source": [
    "winen <- wine\n",
    "winen$X1 <- NULL\n",
    "winen = normalize.minmax(winen)[[1]]\n",
    "winenp <- winen\n",
    "winen$X1 <- wine$X1"
   ]
  },
  {
   "cell_type": "markdown",
   "metadata": {},
   "source": [
    "k-means with 3 clusters (preprocessed data)\n"
   ]
  },
  {
   "cell_type": "code",
   "execution_count": 49,
   "metadata": {},
   "outputs": [
    {
     "data": {
      "text/html": [
       "<table>\n",
       "<thead><tr><th scope=col>X14.23</th><th scope=col>X1.71</th><th scope=col>X2.43</th><th scope=col>X15.6</th><th scope=col>X127</th><th scope=col>X2.8</th><th scope=col>X3.06</th><th scope=col>X.28</th><th scope=col>X2.29</th><th scope=col>X5.64</th><th scope=col>X1.04</th><th scope=col>X3.92</th><th scope=col>X1065</th><th scope=col>X1</th><th scope=col>cluster</th></tr></thead>\n",
       "<tbody>\n",
       "\t<tr><td>0.5710526 </td><td>0.2055336 </td><td>0.4171123 </td><td>0.03092784</td><td>0.3260870 </td><td>0.5758621 </td><td>0.5105485 </td><td>0.2452830 </td><td>0.2744479 </td><td>0.2645051 </td><td>0.4634146 </td><td>0.7802198 </td><td>0.5506419 </td><td>1         </td><td>1         </td></tr>\n",
       "\t<tr><td>0.5605263 </td><td>0.3201581 </td><td>0.7005348 </td><td>0.41237113</td><td>0.3369565 </td><td>0.6275862 </td><td>0.6118143 </td><td>0.3207547 </td><td>0.7570978 </td><td>0.3754266 </td><td>0.4471545 </td><td>0.6959707 </td><td>0.6469330 </td><td>1         </td><td>1         </td></tr>\n",
       "\t<tr><td>0.8789474 </td><td>0.2391304 </td><td>0.6096257 </td><td>0.31958763</td><td>0.4673913 </td><td>0.9896552 </td><td>0.6645570 </td><td>0.2075472 </td><td>0.5583596 </td><td>0.5563140 </td><td>0.3089431 </td><td>0.7985348 </td><td>0.8573466 </td><td>1         </td><td>1         </td></tr>\n",
       "\t<tr><td>0.5815789 </td><td>0.3656126 </td><td>0.8074866 </td><td>0.53608247</td><td>0.5217391 </td><td>0.6275862 </td><td>0.4957806 </td><td>0.4905660 </td><td>0.4447950 </td><td>0.2593857 </td><td>0.4552846 </td><td>0.6080586 </td><td>0.3259629 </td><td>1         </td><td>1         </td></tr>\n",
       "\t<tr><td>0.8342105 </td><td>0.2015810 </td><td>0.5828877 </td><td>0.23711340</td><td>0.4565217 </td><td>0.7896552 </td><td>0.6434599 </td><td>0.3962264 </td><td>0.4921136 </td><td>0.4667235 </td><td>0.4634146 </td><td>0.5787546 </td><td>0.8359486 </td><td>1         </td><td>1         </td></tr>\n",
       "\t<tr><td>0.8842105 </td><td>0.2233202 </td><td>0.5828877 </td><td>0.20618557</td><td>0.2826087 </td><td>0.5241379 </td><td>0.4599156 </td><td>0.3207547 </td><td>0.4952681 </td><td>0.3387372 </td><td>0.4390244 </td><td>0.8461538 </td><td>0.7218260 </td><td>1         </td><td>1         </td></tr>\n",
       "</tbody>\n",
       "</table>\n"
      ],
      "text/latex": [
       "\\begin{tabular}{r|lllllllllllllll}\n",
       " X14.23 & X1.71 & X2.43 & X15.6 & X127 & X2.8 & X3.06 & X.28 & X2.29 & X5.64 & X1.04 & X3.92 & X1065 & X1 & cluster\\\\\n",
       "\\hline\n",
       "\t 0.5710526  & 0.2055336  & 0.4171123  & 0.03092784 & 0.3260870  & 0.5758621  & 0.5105485  & 0.2452830  & 0.2744479  & 0.2645051  & 0.4634146  & 0.7802198  & 0.5506419  & 1          & 1         \\\\\n",
       "\t 0.5605263  & 0.3201581  & 0.7005348  & 0.41237113 & 0.3369565  & 0.6275862  & 0.6118143  & 0.3207547  & 0.7570978  & 0.3754266  & 0.4471545  & 0.6959707  & 0.6469330  & 1          & 1         \\\\\n",
       "\t 0.8789474  & 0.2391304  & 0.6096257  & 0.31958763 & 0.4673913  & 0.9896552  & 0.6645570  & 0.2075472  & 0.5583596  & 0.5563140  & 0.3089431  & 0.7985348  & 0.8573466  & 1          & 1         \\\\\n",
       "\t 0.5815789  & 0.3656126  & 0.8074866  & 0.53608247 & 0.5217391  & 0.6275862  & 0.4957806  & 0.4905660  & 0.4447950  & 0.2593857  & 0.4552846  & 0.6080586  & 0.3259629  & 1          & 1         \\\\\n",
       "\t 0.8342105  & 0.2015810  & 0.5828877  & 0.23711340 & 0.4565217  & 0.7896552  & 0.6434599  & 0.3962264  & 0.4921136  & 0.4667235  & 0.4634146  & 0.5787546  & 0.8359486  & 1          & 1         \\\\\n",
       "\t 0.8842105  & 0.2233202  & 0.5828877  & 0.20618557 & 0.2826087  & 0.5241379  & 0.4599156  & 0.3207547  & 0.4952681  & 0.3387372  & 0.4390244  & 0.8461538  & 0.7218260  & 1          & 1         \\\\\n",
       "\\end{tabular}\n"
      ],
      "text/markdown": [
       "\n",
       "X14.23 | X1.71 | X2.43 | X15.6 | X127 | X2.8 | X3.06 | X.28 | X2.29 | X5.64 | X1.04 | X3.92 | X1065 | X1 | cluster | \n",
       "|---|---|---|---|---|---|\n",
       "| 0.5710526  | 0.2055336  | 0.4171123  | 0.03092784 | 0.3260870  | 0.5758621  | 0.5105485  | 0.2452830  | 0.2744479  | 0.2645051  | 0.4634146  | 0.7802198  | 0.5506419  | 1          | 1          | \n",
       "| 0.5605263  | 0.3201581  | 0.7005348  | 0.41237113 | 0.3369565  | 0.6275862  | 0.6118143  | 0.3207547  | 0.7570978  | 0.3754266  | 0.4471545  | 0.6959707  | 0.6469330  | 1          | 1          | \n",
       "| 0.8789474  | 0.2391304  | 0.6096257  | 0.31958763 | 0.4673913  | 0.9896552  | 0.6645570  | 0.2075472  | 0.5583596  | 0.5563140  | 0.3089431  | 0.7985348  | 0.8573466  | 1          | 1          | \n",
       "| 0.5815789  | 0.3656126  | 0.8074866  | 0.53608247 | 0.5217391  | 0.6275862  | 0.4957806  | 0.4905660  | 0.4447950  | 0.2593857  | 0.4552846  | 0.6080586  | 0.3259629  | 1          | 1          | \n",
       "| 0.8342105  | 0.2015810  | 0.5828877  | 0.23711340 | 0.4565217  | 0.7896552  | 0.6434599  | 0.3962264  | 0.4921136  | 0.4667235  | 0.4634146  | 0.5787546  | 0.8359486  | 1          | 1          | \n",
       "| 0.8842105  | 0.2233202  | 0.5828877  | 0.20618557 | 0.2826087  | 0.5241379  | 0.4599156  | 0.3207547  | 0.4952681  | 0.3387372  | 0.4390244  | 0.8461538  | 0.7218260  | 1          | 1          | \n",
       "\n",
       "\n"
      ],
      "text/plain": [
       "  X14.23    X1.71     X2.43     X15.6      X127      X2.8      X3.06    \n",
       "1 0.5710526 0.2055336 0.4171123 0.03092784 0.3260870 0.5758621 0.5105485\n",
       "2 0.5605263 0.3201581 0.7005348 0.41237113 0.3369565 0.6275862 0.6118143\n",
       "3 0.8789474 0.2391304 0.6096257 0.31958763 0.4673913 0.9896552 0.6645570\n",
       "4 0.5815789 0.3656126 0.8074866 0.53608247 0.5217391 0.6275862 0.4957806\n",
       "5 0.8342105 0.2015810 0.5828877 0.23711340 0.4565217 0.7896552 0.6434599\n",
       "6 0.8842105 0.2233202 0.5828877 0.20618557 0.2826087 0.5241379 0.4599156\n",
       "  X.28      X2.29     X5.64     X1.04     X3.92     X1065     X1 cluster\n",
       "1 0.2452830 0.2744479 0.2645051 0.4634146 0.7802198 0.5506419 1  1      \n",
       "2 0.3207547 0.7570978 0.3754266 0.4471545 0.6959707 0.6469330 1  1      \n",
       "3 0.2075472 0.5583596 0.5563140 0.3089431 0.7985348 0.8573466 1  1      \n",
       "4 0.4905660 0.4447950 0.2593857 0.4552846 0.6080586 0.3259629 1  1      \n",
       "5 0.3962264 0.4921136 0.4667235 0.4634146 0.5787546 0.8359486 1  1      \n",
       "6 0.3207547 0.4952681 0.3387372 0.4390244 0.8461538 0.7218260 1  1      "
      ]
     },
     "metadata": {},
     "output_type": "display_data"
    },
    {
     "name": "stdout",
     "output_type": "stream",
     "text": [
      "        1  2  3\n",
      "ctable 58 71 48\n",
      "       58  6  0\n",
      "        0  3 48\n",
      "        0 62  0\n",
      "[1] 1.0859033 0.3111292 0.2237181 0.0000000\n"
     ]
    },
    {
     "data": {
      "image/png": "[encoded data removed]",
      "text/plain": [
       "plot without title"
      ]
     },
     "metadata": {},
     "output_type": "display_data"
    }
   ],
   "source": [
    "kmeans3n <- clust_kmeans(winen, \"X1\", 3)\n",
    "head(kmeans3n$data)\n",
    "options(repr.plot.width=4, repr.plot.height=3)\n",
    "plot(kmeans3n$plot)\n",
    "print(kmeans3n$table)\n",
    "print(kmeans3n$entropy)"
   ]
  },
  {
   "cell_type": "markdown",
   "metadata": {},
   "source": [
    "Computing good k for preprocessed data"
   ]
  },
  {
   "cell_type": "code",
   "execution_count": 50,
   "metadata": {},
   "outputs": [
    {
     "data": {
      "image/png": "[encoded data removed]",
      "text/plain": [
       "plot without title"
      ]
     },
     "metadata": {},
     "output_type": "display_data"
    }
   ],
   "source": [
    "kmeans_b <- clust_kmeans_best(winenp)\n",
    "options(repr.plot.width=4, repr.plot.height=3)\n",
    "plot(kmeans_b$x,kmeans_b$y)"
   ]
  },
  {
   "cell_type": "code",
   "execution_count": 51,
   "metadata": {},
   "outputs": [
    {
     "data": {
      "text/html": [
       "<table>\n",
       "<thead><tr><th scope=col>X14.23</th><th scope=col>X1.71</th><th scope=col>X2.43</th><th scope=col>X15.6</th><th scope=col>X127</th><th scope=col>X2.8</th><th scope=col>X3.06</th><th scope=col>X.28</th><th scope=col>X2.29</th><th scope=col>X5.64</th><th scope=col>X1.04</th><th scope=col>X3.92</th><th scope=col>X1065</th><th scope=col>X1</th><th scope=col>cluster</th></tr></thead>\n",
       "<tbody>\n",
       "\t<tr><td>0.5710526 </td><td>0.2055336 </td><td>0.4171123 </td><td>0.03092784</td><td>0.3260870 </td><td>0.5758621 </td><td>0.5105485 </td><td>0.2452830 </td><td>0.2744479 </td><td>0.2645051 </td><td>0.4634146 </td><td>0.7802198 </td><td>0.5506419 </td><td>1         </td><td>3         </td></tr>\n",
       "\t<tr><td>0.5605263 </td><td>0.3201581 </td><td>0.7005348 </td><td>0.41237113</td><td>0.3369565 </td><td>0.6275862 </td><td>0.6118143 </td><td>0.3207547 </td><td>0.7570978 </td><td>0.3754266 </td><td>0.4471545 </td><td>0.6959707 </td><td>0.6469330 </td><td>1         </td><td>3         </td></tr>\n",
       "\t<tr><td>0.8789474 </td><td>0.2391304 </td><td>0.6096257 </td><td>0.31958763</td><td>0.4673913 </td><td>0.9896552 </td><td>0.6645570 </td><td>0.2075472 </td><td>0.5583596 </td><td>0.5563140 </td><td>0.3089431 </td><td>0.7985348 </td><td>0.8573466 </td><td>1         </td><td>3         </td></tr>\n",
       "\t<tr><td>0.5815789 </td><td>0.3656126 </td><td>0.8074866 </td><td>0.53608247</td><td>0.5217391 </td><td>0.6275862 </td><td>0.4957806 </td><td>0.4905660 </td><td>0.4447950 </td><td>0.2593857 </td><td>0.4552846 </td><td>0.6080586 </td><td>0.3259629 </td><td>1         </td><td>3         </td></tr>\n",
       "\t<tr><td>0.8342105 </td><td>0.2015810 </td><td>0.5828877 </td><td>0.23711340</td><td>0.4565217 </td><td>0.7896552 </td><td>0.6434599 </td><td>0.3962264 </td><td>0.4921136 </td><td>0.4667235 </td><td>0.4634146 </td><td>0.5787546 </td><td>0.8359486 </td><td>1         </td><td>3         </td></tr>\n",
       "\t<tr><td>0.8842105 </td><td>0.2233202 </td><td>0.5828877 </td><td>0.20618557</td><td>0.2826087 </td><td>0.5241379 </td><td>0.4599156 </td><td>0.3207547 </td><td>0.4952681 </td><td>0.3387372 </td><td>0.4390244 </td><td>0.8461538 </td><td>0.7218260 </td><td>1         </td><td>3         </td></tr>\n",
       "</tbody>\n",
       "</table>\n"
      ],
      "text/latex": [
       "\\begin{tabular}{r|lllllllllllllll}\n",
       " X14.23 & X1.71 & X2.43 & X15.6 & X127 & X2.8 & X3.06 & X.28 & X2.29 & X5.64 & X1.04 & X3.92 & X1065 & X1 & cluster\\\\\n",
       "\\hline\n",
       "\t 0.5710526  & 0.2055336  & 0.4171123  & 0.03092784 & 0.3260870  & 0.5758621  & 0.5105485  & 0.2452830  & 0.2744479  & 0.2645051  & 0.4634146  & 0.7802198  & 0.5506419  & 1          & 3         \\\\\n",
       "\t 0.5605263  & 0.3201581  & 0.7005348  & 0.41237113 & 0.3369565  & 0.6275862  & 0.6118143  & 0.3207547  & 0.7570978  & 0.3754266  & 0.4471545  & 0.6959707  & 0.6469330  & 1          & 3         \\\\\n",
       "\t 0.8789474  & 0.2391304  & 0.6096257  & 0.31958763 & 0.4673913  & 0.9896552  & 0.6645570  & 0.2075472  & 0.5583596  & 0.5563140  & 0.3089431  & 0.7985348  & 0.8573466  & 1          & 3         \\\\\n",
       "\t 0.5815789  & 0.3656126  & 0.8074866  & 0.53608247 & 0.5217391  & 0.6275862  & 0.4957806  & 0.4905660  & 0.4447950  & 0.2593857  & 0.4552846  & 0.6080586  & 0.3259629  & 1          & 3         \\\\\n",
       "\t 0.8342105  & 0.2015810  & 0.5828877  & 0.23711340 & 0.4565217  & 0.7896552  & 0.6434599  & 0.3962264  & 0.4921136  & 0.4667235  & 0.4634146  & 0.5787546  & 0.8359486  & 1          & 3         \\\\\n",
       "\t 0.8842105  & 0.2233202  & 0.5828877  & 0.20618557 & 0.2826087  & 0.5241379  & 0.4599156  & 0.3207547  & 0.4952681  & 0.3387372  & 0.4390244  & 0.8461538  & 0.7218260  & 1          & 3         \\\\\n",
       "\\end{tabular}\n"
      ],
      "text/markdown": [
       "\n",
       "X14.23 | X1.71 | X2.43 | X15.6 | X127 | X2.8 | X3.06 | X.28 | X2.29 | X5.64 | X1.04 | X3.92 | X1065 | X1 | cluster | \n",
       "|---|---|---|---|---|---|\n",
       "| 0.5710526  | 0.2055336  | 0.4171123  | 0.03092784 | 0.3260870  | 0.5758621  | 0.5105485  | 0.2452830  | 0.2744479  | 0.2645051  | 0.4634146  | 0.7802198  | 0.5506419  | 1          | 3          | \n",
       "| 0.5605263  | 0.3201581  | 0.7005348  | 0.41237113 | 0.3369565  | 0.6275862  | 0.6118143  | 0.3207547  | 0.7570978  | 0.3754266  | 0.4471545  | 0.6959707  | 0.6469330  | 1          | 3          | \n",
       "| 0.8789474  | 0.2391304  | 0.6096257  | 0.31958763 | 0.4673913  | 0.9896552  | 0.6645570  | 0.2075472  | 0.5583596  | 0.5563140  | 0.3089431  | 0.7985348  | 0.8573466  | 1          | 3          | \n",
       "| 0.5815789  | 0.3656126  | 0.8074866  | 0.53608247 | 0.5217391  | 0.6275862  | 0.4957806  | 0.4905660  | 0.4447950  | 0.2593857  | 0.4552846  | 0.6080586  | 0.3259629  | 1          | 3          | \n",
       "| 0.8342105  | 0.2015810  | 0.5828877  | 0.23711340 | 0.4565217  | 0.7896552  | 0.6434599  | 0.3962264  | 0.4921136  | 0.4667235  | 0.4634146  | 0.5787546  | 0.8359486  | 1          | 3          | \n",
       "| 0.8842105  | 0.2233202  | 0.5828877  | 0.20618557 | 0.2826087  | 0.5241379  | 0.4599156  | 0.3207547  | 0.4952681  | 0.3387372  | 0.4390244  | 0.8461538  | 0.7218260  | 1          | 3          | \n",
       "\n",
       "\n"
      ],
      "text/plain": [
       "  X14.23    X1.71     X2.43     X15.6      X127      X2.8      X3.06    \n",
       "1 0.5710526 0.2055336 0.4171123 0.03092784 0.3260870 0.5758621 0.5105485\n",
       "2 0.5605263 0.3201581 0.7005348 0.41237113 0.3369565 0.6275862 0.6118143\n",
       "3 0.8789474 0.2391304 0.6096257 0.31958763 0.4673913 0.9896552 0.6645570\n",
       "4 0.5815789 0.3656126 0.8074866 0.53608247 0.5217391 0.6275862 0.4957806\n",
       "5 0.8342105 0.2015810 0.5828877 0.23711340 0.4565217 0.7896552 0.6434599\n",
       "6 0.8842105 0.2233202 0.5828877 0.20618557 0.2826087 0.5241379 0.4599156\n",
       "  X.28      X2.29     X5.64     X1.04     X3.92     X1065     X1 cluster\n",
       "1 0.2452830 0.2744479 0.2645051 0.4634146 0.7802198 0.5506419 1  3      \n",
       "2 0.3207547 0.7570978 0.3754266 0.4471545 0.6959707 0.6469330 1  3      \n",
       "3 0.2075472 0.5583596 0.5563140 0.3089431 0.7985348 0.8573466 1  3      \n",
       "4 0.4905660 0.4447950 0.2593857 0.4552846 0.6080586 0.3259629 1  3      \n",
       "5 0.3962264 0.4921136 0.4667235 0.4634146 0.5787546 0.8359486 1  3      \n",
       "6 0.3207547 0.4952681 0.3387372 0.4390244 0.8461538 0.7218260 1  3      "
      ]
     },
     "metadata": {},
     "output_type": "display_data"
    },
    {
     "name": "stdout",
     "output_type": "stream",
     "text": [
      "        1  2  3\n",
      "ctable 58 71 48\n",
      "        0 54  0\n",
      "        0  0 34\n",
      "       58  2  0\n",
      "        0 15 14\n",
      "[1] 1.0859033 0.0000000 0.0000000 0.1461447 0.6925525\n"
     ]
    },
    {
     "data": {
      "image/png": "[encoded data removed]",
      "text/plain": [
       "plot without title"
      ]
     },
     "metadata": {},
     "output_type": "display_data"
    }
   ],
   "source": [
    "kmeans4n <- clust_kmeans(winen, \"X1\", 4)\n",
    "head(kmeans4n$data)\n",
    "options(repr.plot.width=4, repr.plot.height=3)\n",
    "plot(kmeans4n$plot)\n",
    "print(kmeans4n$table)\n",
    "print(kmeans4n$entropy)"
   ]
  },
  {
   "cell_type": "markdown",
   "metadata": {},
   "source": [
    "pam (computing best k)"
   ]
  },
  {
   "cell_type": "code",
   "execution_count": 52,
   "metadata": {
    "scrolled": true
   },
   "outputs": [
    {
     "data": {
      "text/html": [
       "2"
      ],
      "text/latex": [
       "2"
      ],
      "text/markdown": [
       "2"
      ],
      "text/plain": [
       "[1] 2"
      ]
     },
     "metadata": {},
     "output_type": "display_data"
    },
    {
     "data": {
      "text/plain": [
       "   \n",
       "     1  2  3\n",
       "  1 58 47  0\n",
       "  2  0 24 48"
      ]
     },
     "metadata": {},
     "output_type": "display_data"
    }
   ],
   "source": [
    "pamk.result <- pamk(winenp)\n",
    "pamk.result$nc\n",
    "table(pamk.result$pamobject$clustering, winen$X1)"
   ]
  },
  {
   "cell_type": "markdown",
   "metadata": {},
   "source": [
    "pam with 3 clusters"
   ]
  },
  {
   "cell_type": "code",
   "execution_count": 53,
   "metadata": {},
   "outputs": [
    {
     "data": {
      "text/html": [
       "<table>\n",
       "<thead><tr><th scope=col>X14.23</th><th scope=col>X1.71</th><th scope=col>X2.43</th><th scope=col>X15.6</th><th scope=col>X127</th><th scope=col>X2.8</th><th scope=col>X3.06</th><th scope=col>X.28</th><th scope=col>X2.29</th><th scope=col>X5.64</th><th scope=col>X1.04</th><th scope=col>X3.92</th><th scope=col>X1065</th><th scope=col>X1</th><th scope=col>cluster</th></tr></thead>\n",
       "<tbody>\n",
       "\t<tr><td>0.5710526 </td><td>0.2055336 </td><td>0.4171123 </td><td>0.03092784</td><td>0.3260870 </td><td>0.5758621 </td><td>0.5105485 </td><td>0.2452830 </td><td>0.2744479 </td><td>0.2645051 </td><td>0.4634146 </td><td>0.7802198 </td><td>0.5506419 </td><td>1         </td><td>1         </td></tr>\n",
       "\t<tr><td>0.5605263 </td><td>0.3201581 </td><td>0.7005348 </td><td>0.41237113</td><td>0.3369565 </td><td>0.6275862 </td><td>0.6118143 </td><td>0.3207547 </td><td>0.7570978 </td><td>0.3754266 </td><td>0.4471545 </td><td>0.6959707 </td><td>0.6469330 </td><td>1         </td><td>1         </td></tr>\n",
       "\t<tr><td>0.8789474 </td><td>0.2391304 </td><td>0.6096257 </td><td>0.31958763</td><td>0.4673913 </td><td>0.9896552 </td><td>0.6645570 </td><td>0.2075472 </td><td>0.5583596 </td><td>0.5563140 </td><td>0.3089431 </td><td>0.7985348 </td><td>0.8573466 </td><td>1         </td><td>1         </td></tr>\n",
       "\t<tr><td>0.5815789 </td><td>0.3656126 </td><td>0.8074866 </td><td>0.53608247</td><td>0.5217391 </td><td>0.6275862 </td><td>0.4957806 </td><td>0.4905660 </td><td>0.4447950 </td><td>0.2593857 </td><td>0.4552846 </td><td>0.6080586 </td><td>0.3259629 </td><td>1         </td><td>1         </td></tr>\n",
       "\t<tr><td>0.8342105 </td><td>0.2015810 </td><td>0.5828877 </td><td>0.23711340</td><td>0.4565217 </td><td>0.7896552 </td><td>0.6434599 </td><td>0.3962264 </td><td>0.4921136 </td><td>0.4667235 </td><td>0.4634146 </td><td>0.5787546 </td><td>0.8359486 </td><td>1         </td><td>1         </td></tr>\n",
       "\t<tr><td>0.8842105 </td><td>0.2233202 </td><td>0.5828877 </td><td>0.20618557</td><td>0.2826087 </td><td>0.5241379 </td><td>0.4599156 </td><td>0.3207547 </td><td>0.4952681 </td><td>0.3387372 </td><td>0.4390244 </td><td>0.8461538 </td><td>0.7218260 </td><td>1         </td><td>1         </td></tr>\n",
       "</tbody>\n",
       "</table>\n"
      ],
      "text/latex": [
       "\\begin{tabular}{r|lllllllllllllll}\n",
       " X14.23 & X1.71 & X2.43 & X15.6 & X127 & X2.8 & X3.06 & X.28 & X2.29 & X5.64 & X1.04 & X3.92 & X1065 & X1 & cluster\\\\\n",
       "\\hline\n",
       "\t 0.5710526  & 0.2055336  & 0.4171123  & 0.03092784 & 0.3260870  & 0.5758621  & 0.5105485  & 0.2452830  & 0.2744479  & 0.2645051  & 0.4634146  & 0.7802198  & 0.5506419  & 1          & 1         \\\\\n",
       "\t 0.5605263  & 0.3201581  & 0.7005348  & 0.41237113 & 0.3369565  & 0.6275862  & 0.6118143  & 0.3207547  & 0.7570978  & 0.3754266  & 0.4471545  & 0.6959707  & 0.6469330  & 1          & 1         \\\\\n",
       "\t 0.8789474  & 0.2391304  & 0.6096257  & 0.31958763 & 0.4673913  & 0.9896552  & 0.6645570  & 0.2075472  & 0.5583596  & 0.5563140  & 0.3089431  & 0.7985348  & 0.8573466  & 1          & 1         \\\\\n",
       "\t 0.5815789  & 0.3656126  & 0.8074866  & 0.53608247 & 0.5217391  & 0.6275862  & 0.4957806  & 0.4905660  & 0.4447950  & 0.2593857  & 0.4552846  & 0.6080586  & 0.3259629  & 1          & 1         \\\\\n",
       "\t 0.8342105  & 0.2015810  & 0.5828877  & 0.23711340 & 0.4565217  & 0.7896552  & 0.6434599  & 0.3962264  & 0.4921136  & 0.4667235  & 0.4634146  & 0.5787546  & 0.8359486  & 1          & 1         \\\\\n",
       "\t 0.8842105  & 0.2233202  & 0.5828877  & 0.20618557 & 0.2826087  & 0.5241379  & 0.4599156  & 0.3207547  & 0.4952681  & 0.3387372  & 0.4390244  & 0.8461538  & 0.7218260  & 1          & 1         \\\\\n",
       "\\end{tabular}\n"
      ],
      "text/markdown": [
       "\n",
       "X14.23 | X1.71 | X2.43 | X15.6 | X127 | X2.8 | X3.06 | X.28 | X2.29 | X5.64 | X1.04 | X3.92 | X1065 | X1 | cluster | \n",
       "|---|---|---|---|---|---|\n",
       "| 0.5710526  | 0.2055336  | 0.4171123  | 0.03092784 | 0.3260870  | 0.5758621  | 0.5105485  | 0.2452830  | 0.2744479  | 0.2645051  | 0.4634146  | 0.7802198  | 0.5506419  | 1          | 1          | \n",
       "| 0.5605263  | 0.3201581  | 0.7005348  | 0.41237113 | 0.3369565  | 0.6275862  | 0.6118143  | 0.3207547  | 0.7570978  | 0.3754266  | 0.4471545  | 0.6959707  | 0.6469330  | 1          | 1          | \n",
       "| 0.8789474  | 0.2391304  | 0.6096257  | 0.31958763 | 0.4673913  | 0.9896552  | 0.6645570  | 0.2075472  | 0.5583596  | 0.5563140  | 0.3089431  | 0.7985348  | 0.8573466  | 1          | 1          | \n",
       "| 0.5815789  | 0.3656126  | 0.8074866  | 0.53608247 | 0.5217391  | 0.6275862  | 0.4957806  | 0.4905660  | 0.4447950  | 0.2593857  | 0.4552846  | 0.6080586  | 0.3259629  | 1          | 1          | \n",
       "| 0.8342105  | 0.2015810  | 0.5828877  | 0.23711340 | 0.4565217  | 0.7896552  | 0.6434599  | 0.3962264  | 0.4921136  | 0.4667235  | 0.4634146  | 0.5787546  | 0.8359486  | 1          | 1          | \n",
       "| 0.8842105  | 0.2233202  | 0.5828877  | 0.20618557 | 0.2826087  | 0.5241379  | 0.4599156  | 0.3207547  | 0.4952681  | 0.3387372  | 0.4390244  | 0.8461538  | 0.7218260  | 1          | 1          | \n",
       "\n",
       "\n"
      ],
      "text/plain": [
       "  X14.23    X1.71     X2.43     X15.6      X127      X2.8      X3.06    \n",
       "1 0.5710526 0.2055336 0.4171123 0.03092784 0.3260870 0.5758621 0.5105485\n",
       "2 0.5605263 0.3201581 0.7005348 0.41237113 0.3369565 0.6275862 0.6118143\n",
       "3 0.8789474 0.2391304 0.6096257 0.31958763 0.4673913 0.9896552 0.6645570\n",
       "4 0.5815789 0.3656126 0.8074866 0.53608247 0.5217391 0.6275862 0.4957806\n",
       "5 0.8342105 0.2015810 0.5828877 0.23711340 0.4565217 0.7896552 0.6434599\n",
       "6 0.8842105 0.2233202 0.5828877 0.20618557 0.2826087 0.5241379 0.4599156\n",
       "  X.28      X2.29     X5.64     X1.04     X3.92     X1065     X1 cluster\n",
       "1 0.2452830 0.2744479 0.2645051 0.4634146 0.7802198 0.5506419 1  1      \n",
       "2 0.3207547 0.7570978 0.3754266 0.4471545 0.6959707 0.6469330 1  1      \n",
       "3 0.2075472 0.5583596 0.5563140 0.3089431 0.7985348 0.8573466 1  1      \n",
       "4 0.4905660 0.4447950 0.2593857 0.4552846 0.6080586 0.3259629 1  1      \n",
       "5 0.3962264 0.4921136 0.4667235 0.4634146 0.5787546 0.8359486 1  1      \n",
       "6 0.3207547 0.4952681 0.3387372 0.4390244 0.8461538 0.7218260 1  1      "
      ]
     },
     "metadata": {},
     "output_type": "display_data"
    },
    {
     "name": "stdout",
     "output_type": "stream",
     "text": [
      "        1  2  3\n",
      "ctable 58 71 48\n",
      "       58 13  0\n",
      "        0 54  0\n",
      "        0  4 48\n",
      "[1] 1.0859033 0.4760596 0.0000000 0.2711894\n"
     ]
    }
   ],
   "source": [
    "pam3n <- clust_pam(winen, \"X1\", 3)\n",
    "head(pam3n$data)\n",
    "print(pam3n$table)\n",
    "print(pam3n$entropy)"
   ]
  },
  {
   "cell_type": "markdown",
   "metadata": {},
   "source": [
    "db scan"
   ]
  },
  {
   "cell_type": "code",
   "execution_count": 54,
   "metadata": {},
   "outputs": [
    {
     "data": {
      "text/html": [
       "<table>\n",
       "<thead><tr><th scope=col>X14.23</th><th scope=col>X1.71</th><th scope=col>X2.43</th><th scope=col>X15.6</th><th scope=col>X127</th><th scope=col>X2.8</th><th scope=col>X3.06</th><th scope=col>X.28</th><th scope=col>X2.29</th><th scope=col>X5.64</th><th scope=col>X1.04</th><th scope=col>X3.92</th><th scope=col>X1065</th><th scope=col>X1</th><th scope=col>cluster</th></tr></thead>\n",
       "<tbody>\n",
       "\t<tr><td>0.5710526 </td><td>0.2055336 </td><td>0.4171123 </td><td>0.03092784</td><td>0.3260870 </td><td>0.5758621 </td><td>0.5105485 </td><td>0.2452830 </td><td>0.2744479 </td><td>0.2645051 </td><td>0.4634146 </td><td>0.7802198 </td><td>0.5506419 </td><td>1         </td><td>1         </td></tr>\n",
       "\t<tr><td>0.5605263 </td><td>0.3201581 </td><td>0.7005348 </td><td>0.41237113</td><td>0.3369565 </td><td>0.6275862 </td><td>0.6118143 </td><td>0.3207547 </td><td>0.7570978 </td><td>0.3754266 </td><td>0.4471545 </td><td>0.6959707 </td><td>0.6469330 </td><td>1         </td><td>1         </td></tr>\n",
       "\t<tr><td>0.8789474 </td><td>0.2391304 </td><td>0.6096257 </td><td>0.31958763</td><td>0.4673913 </td><td>0.9896552 </td><td>0.6645570 </td><td>0.2075472 </td><td>0.5583596 </td><td>0.5563140 </td><td>0.3089431 </td><td>0.7985348 </td><td>0.8573466 </td><td>1         </td><td>1         </td></tr>\n",
       "\t<tr><td>0.5815789 </td><td>0.3656126 </td><td>0.8074866 </td><td>0.53608247</td><td>0.5217391 </td><td>0.6275862 </td><td>0.4957806 </td><td>0.4905660 </td><td>0.4447950 </td><td>0.2593857 </td><td>0.4552846 </td><td>0.6080586 </td><td>0.3259629 </td><td>1         </td><td>0         </td></tr>\n",
       "\t<tr><td>0.8342105 </td><td>0.2015810 </td><td>0.5828877 </td><td>0.23711340</td><td>0.4565217 </td><td>0.7896552 </td><td>0.6434599 </td><td>0.3962264 </td><td>0.4921136 </td><td>0.4667235 </td><td>0.4634146 </td><td>0.5787546 </td><td>0.8359486 </td><td>1         </td><td>1         </td></tr>\n",
       "\t<tr><td>0.8842105 </td><td>0.2233202 </td><td>0.5828877 </td><td>0.20618557</td><td>0.2826087 </td><td>0.5241379 </td><td>0.4599156 </td><td>0.3207547 </td><td>0.4952681 </td><td>0.3387372 </td><td>0.4390244 </td><td>0.8461538 </td><td>0.7218260 </td><td>1         </td><td>1         </td></tr>\n",
       "</tbody>\n",
       "</table>\n"
      ],
      "text/latex": [
       "\\begin{tabular}{r|lllllllllllllll}\n",
       " X14.23 & X1.71 & X2.43 & X15.6 & X127 & X2.8 & X3.06 & X.28 & X2.29 & X5.64 & X1.04 & X3.92 & X1065 & X1 & cluster\\\\\n",
       "\\hline\n",
       "\t 0.5710526  & 0.2055336  & 0.4171123  & 0.03092784 & 0.3260870  & 0.5758621  & 0.5105485  & 0.2452830  & 0.2744479  & 0.2645051  & 0.4634146  & 0.7802198  & 0.5506419  & 1          & 1         \\\\\n",
       "\t 0.5605263  & 0.3201581  & 0.7005348  & 0.41237113 & 0.3369565  & 0.6275862  & 0.6118143  & 0.3207547  & 0.7570978  & 0.3754266  & 0.4471545  & 0.6959707  & 0.6469330  & 1          & 1         \\\\\n",
       "\t 0.8789474  & 0.2391304  & 0.6096257  & 0.31958763 & 0.4673913  & 0.9896552  & 0.6645570  & 0.2075472  & 0.5583596  & 0.5563140  & 0.3089431  & 0.7985348  & 0.8573466  & 1          & 1         \\\\\n",
       "\t 0.5815789  & 0.3656126  & 0.8074866  & 0.53608247 & 0.5217391  & 0.6275862  & 0.4957806  & 0.4905660  & 0.4447950  & 0.2593857  & 0.4552846  & 0.6080586  & 0.3259629  & 1          & 0         \\\\\n",
       "\t 0.8342105  & 0.2015810  & 0.5828877  & 0.23711340 & 0.4565217  & 0.7896552  & 0.6434599  & 0.3962264  & 0.4921136  & 0.4667235  & 0.4634146  & 0.5787546  & 0.8359486  & 1          & 1         \\\\\n",
       "\t 0.8842105  & 0.2233202  & 0.5828877  & 0.20618557 & 0.2826087  & 0.5241379  & 0.4599156  & 0.3207547  & 0.4952681  & 0.3387372  & 0.4390244  & 0.8461538  & 0.7218260  & 1          & 1         \\\\\n",
       "\\end{tabular}\n"
      ],
      "text/markdown": [
       "\n",
       "X14.23 | X1.71 | X2.43 | X15.6 | X127 | X2.8 | X3.06 | X.28 | X2.29 | X5.64 | X1.04 | X3.92 | X1065 | X1 | cluster | \n",
       "|---|---|---|---|---|---|\n",
       "| 0.5710526  | 0.2055336  | 0.4171123  | 0.03092784 | 0.3260870  | 0.5758621  | 0.5105485  | 0.2452830  | 0.2744479  | 0.2645051  | 0.4634146  | 0.7802198  | 0.5506419  | 1          | 1          | \n",
       "| 0.5605263  | 0.3201581  | 0.7005348  | 0.41237113 | 0.3369565  | 0.6275862  | 0.6118143  | 0.3207547  | 0.7570978  | 0.3754266  | 0.4471545  | 0.6959707  | 0.6469330  | 1          | 1          | \n",
       "| 0.8789474  | 0.2391304  | 0.6096257  | 0.31958763 | 0.4673913  | 0.9896552  | 0.6645570  | 0.2075472  | 0.5583596  | 0.5563140  | 0.3089431  | 0.7985348  | 0.8573466  | 1          | 1          | \n",
       "| 0.5815789  | 0.3656126  | 0.8074866  | 0.53608247 | 0.5217391  | 0.6275862  | 0.4957806  | 0.4905660  | 0.4447950  | 0.2593857  | 0.4552846  | 0.6080586  | 0.3259629  | 1          | 0          | \n",
       "| 0.8342105  | 0.2015810  | 0.5828877  | 0.23711340 | 0.4565217  | 0.7896552  | 0.6434599  | 0.3962264  | 0.4921136  | 0.4667235  | 0.4634146  | 0.5787546  | 0.8359486  | 1          | 1          | \n",
       "| 0.8842105  | 0.2233202  | 0.5828877  | 0.20618557 | 0.2826087  | 0.5241379  | 0.4599156  | 0.3207547  | 0.4952681  | 0.3387372  | 0.4390244  | 0.8461538  | 0.7218260  | 1          | 1          | \n",
       "\n",
       "\n"
      ],
      "text/plain": [
       "  X14.23    X1.71     X2.43     X15.6      X127      X2.8      X3.06    \n",
       "1 0.5710526 0.2055336 0.4171123 0.03092784 0.3260870 0.5758621 0.5105485\n",
       "2 0.5605263 0.3201581 0.7005348 0.41237113 0.3369565 0.6275862 0.6118143\n",
       "3 0.8789474 0.2391304 0.6096257 0.31958763 0.4673913 0.9896552 0.6645570\n",
       "4 0.5815789 0.3656126 0.8074866 0.53608247 0.5217391 0.6275862 0.4957806\n",
       "5 0.8342105 0.2015810 0.5828877 0.23711340 0.4565217 0.7896552 0.6434599\n",
       "6 0.8842105 0.2233202 0.5828877 0.20618557 0.2826087 0.5241379 0.4599156\n",
       "  X.28      X2.29     X5.64     X1.04     X3.92     X1065     X1 cluster\n",
       "1 0.2452830 0.2744479 0.2645051 0.4634146 0.7802198 0.5506419 1  1      \n",
       "2 0.3207547 0.7570978 0.3754266 0.4471545 0.6959707 0.6469330 1  1      \n",
       "3 0.2075472 0.5583596 0.5563140 0.3089431 0.7985348 0.8573466 1  1      \n",
       "4 0.4905660 0.4447950 0.2593857 0.4552846 0.6080586 0.3259629 1  0      \n",
       "5 0.3962264 0.4921136 0.4667235 0.4634146 0.5787546 0.8359486 1  1      \n",
       "6 0.3207547 0.4952681 0.3387372 0.4390244 0.8461538 0.7218260 1  1      "
      ]
     },
     "metadata": {},
     "output_type": "display_data"
    },
    {
     "name": "stdout",
     "output_type": "stream",
     "text": [
      "        1  2  3\n",
      "ctable 58 71 48\n",
      "       10 51 30\n",
      "       48  7  0\n",
      "        0 13  0\n",
      "        0  0 18\n",
      "[1] 1.0859033 0.9330037 0.3811692 0.0000000 0.0000000\n"
     ]
    },
    {
     "data": {
      "image/png": "[encoded data removed]",
      "text/plain": [
       "plot without title"
      ]
     },
     "metadata": {},
     "output_type": "display_data"
    }
   ],
   "source": [
    "dbs3n <- clust_dbscan(winen, \"X1\", eps = 0.425, MinPts = 10)\n",
    "head(dbs3n$data)\n",
    "print(dbs3n$table)\n",
    "print(dbs3n$entropy)\n",
    "options(repr.plot.width=5, repr.plot.height=4)\n",
    "plotcluster(winenp, dbs3n$clu$cluster)  "
   ]
  },
  {
   "cell_type": "markdown",
   "metadata": {},
   "source": [
    "histogram clustering"
   ]
  },
  {
   "cell_type": "code",
   "execution_count": 55,
   "metadata": {},
   "outputs": [
    {
     "data": {
      "image/png": "[encoded data removed]",
      "text/plain": [
       "Plot with title \"Cluster Dendrogram\""
      ]
     },
     "metadata": {},
     "output_type": "display_data"
    }
   ],
   "source": [
    "idx <- sample(1:dim(winen)[1], 40)\n",
    "winens <- winen[idx, ]\n",
    "hc <- hclust(dist(winens), method = \"ave\")\n",
    "plot(hc, hang = -1, labels = winen$X1[idx])\n",
    "rect.hclust(hc, k = 3)\n",
    "groups <- cutree(hc, k = 3)"
   ]
  },
  {
   "cell_type": "code",
   "execution_count": null,
   "metadata": {
    "collapsed": true
   },
   "outputs": [],
   "source": []
  }
 ],
 "metadata": {
  "kernelspec": {
   "display_name": "R",
   "language": "R",
   "name": "ir"
  },
  "language_info": {
   "codemirror_mode": "r",
   "file_extension": ".r",
   "mimetype": "text/x-r-source",
   "name": "R",
   "pygments_lexer": "r",
   "version": "3.5.0"
  }
 },
 "nbformat": 4,
 "nbformat_minor": 2
}
