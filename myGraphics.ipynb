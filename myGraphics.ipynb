{
 "cells": [
  {
   "cell_type": "markdown",
   "metadata": {},
   "source": [
    "# Gráficos padronizados em ggplot2\n",
    "## Bibliotecas\n"
   ]
  },
  {
   "cell_type": "code",
   "execution_count": 1,
   "metadata": {
    "collapsed": true
   },
   "outputs": [],
   "source": [
    "library(ggplot2)\n",
    "library(scales)"
   ]
  },
  {
   "cell_type": "markdown",
   "metadata": {},
   "source": [
    "## Plotagem de gráficos de linhas"
   ]
  },
  {
   "cell_type": "code",
   "execution_count": 2,
   "metadata": {
    "collapsed": true
   },
   "outputs": [],
   "source": [
    "plot.series <- function(series, label_series=\" \", label_x=\"x\", label_y=\"y\", colors=NULL) {\n",
    "  grf <- ggplot(data=series, aes(x = x, y = value, colour=variable))\n",
    "  grf <- grf + geom_line() + geom_point(data=series, aes(x = x, y = value, colour=variable), size=0.5)\n",
    "  if (!is.null(colors)) {\n",
    "    grf <- grf + scale_color_manual(values=colors)\n",
    "  }\n",
    "  grf <- grf + labs(color=label_series)\n",
    "  grf <- grf + xlab(label_x)\n",
    "  grf <- grf + ylab(label_y) \n",
    "  grf <- grf + theme_bw(base_size = 10)\n",
    "  grf <- grf + theme(panel.grid.major = element_blank()) + theme(panel.grid.minor = element_blank()) \n",
    "  grf <- grf + theme(legend.position = \"bottom\") + theme(legend.key = element_blank()) \n",
    "  return(grf)\n",
    "}"
   ]
  },
  {
   "cell_type": "markdown",
   "metadata": {},
   "source": [
    "## Plotagem de gráficos boxplot"
   ]
  },
  {
   "cell_type": "code",
   "execution_count": 3,
   "metadata": {
    "collapsed": true
   },
   "outputs": [],
   "source": [
    "plot.boxplot <- function(series, labx = \"x\", laby = \"y\", colors = NULL) {\n",
    "  grf <- ggplot(aes(y = value, x = variable), data = series)\n",
    "  if (!is.null(colors)) {\n",
    "    grf <- grf + geom_boxplot(color = colors)\n",
    "  }\n",
    "  else {\n",
    "    grf <- grf + geom_boxplot()\n",
    "  }\n",
    "  grf <- grf + theme_bw(base_size = 10)\n",
    "  grf <- grf + theme(panel.grid.minor = element_blank()) + theme(legend.position = \"bottom\")\n",
    "  grf <- grf + xlab(labx)\n",
    "  grf <- grf + ylab(laby)\n",
    "  return(grf)\n",
    "}"
   ]
  },
  {
   "cell_type": "markdown",
   "metadata": {},
   "source": [
    "## Plotagem de gráficos de barra"
   ]
  },
  {
   "cell_type": "code",
   "execution_count": 4,
   "metadata": {
    "collapsed": true
   },
   "outputs": [],
   "source": [
    "plot.bar <- function(series, group=FALSE, colors=NULL) {\n",
    "  if (group) {\n",
    "    grf <- ggplot(series, aes(x, value, fill=variable)) + geom_bar(stat = \"identity\",position = \"dodge\")\n",
    "    if (!is.null(colors)) {\n",
    "      grf <- grf + scale_fill_manual(\"legend\", values = colors)\n",
    "    }\n",
    "  }\n",
    "  else {  \n",
    "    grf <- ggplot(series, aes(variable, value))\n",
    "    if (!is.null(colors)) {\n",
    "      grf <- grf + geom_bar(stat = \"identity\",fill=colors)\n",
    "    }\n",
    "    else {  \n",
    "      grf <- grf + geom_bar(stat = \"identity\")\n",
    "    }    \n",
    "  }\n",
    "  grf <- grf + theme_bw(base_size = 10)\n",
    "  grf <- grf + theme(panel.grid.minor = element_blank()) + theme(legend.position = \"bottom\")\n",
    "  grf <- grf + scale_x_discrete(limits = unique(series$x))\n",
    "  return(grf)\n",
    "}"
   ]
  },
  {
   "cell_type": "markdown",
   "metadata": {},
   "source": [
    "## Plotagem de gráficos de stacked-bar"
   ]
  },
  {
   "cell_type": "code",
   "execution_count": 5,
   "metadata": {
    "collapsed": true
   },
   "outputs": [],
   "source": [
    "plot.stackedbar <- function(series, colors=NULL) {\n",
    "  grf <- ggplot(series, aes(x=x, y=value, fill=variable)) + geom_bar(stat=\"identity\", colour=\"white\")\n",
    "  if (!is.null(colors)) {\n",
    "    grf <- grf + scale_fill_manual(\"legend\", values = colors)\n",
    "  }\n",
    "  grf <- grf + theme_bw(base_size = 10)\n",
    "  grf <- grf + theme(panel.grid.minor = element_blank()) + theme(legend.position = \"bottom\")\n",
    "  grf <- grf + scale_x_discrete(limits = unique(series$x))\n",
    "  return(grf)\n",
    "}"
   ]
  },
  {
   "cell_type": "markdown",
   "metadata": {},
   "source": [
    "## Datasets de exemplos"
   ]
  },
  {
   "cell_type": "code",
   "execution_count": 6,
   "metadata": {},
   "outputs": [
    {
     "ename": "ERROR",
     "evalue": "Error in library(reshape): there is no package called 'reshape'\n",
     "output_type": "error",
     "traceback": [
      "Error in library(reshape): there is no package called 'reshape'\nTraceback:\n",
      "1. library(reshape)",
      "2. stop(txt, domain = NA)"
     ]
    }
   ],
   "source": [
    "library(reshape)\n",
    "\n",
    "dataset_series <- function() {\n",
    "  series <- data.frame(x= 1:10, sin=sin(1:10), cos=cos(1:10))\n",
    "  series <- melt(series[,c('x','sin','cos')],id.vars = 1)\n",
    "  return(series)  \n",
    "}\n",
    "\n",
    "dataset_bar <- function() {\n",
    "  series <- matrix(nrow=5, ncol=2)\n",
    "  series[1,] = c(\"janeiro\", 10)\n",
    "  series[2,] = c(\"fevereiro\", 9)\n",
    "  series[3,] = c(\"março\", 11)\n",
    "  series[4,] = c(\"abril\", 8)\n",
    "  series[5,] = c(\"maio\", 12)\n",
    "  series <- data.frame(variable=as.factor(series[,1]), value=as.double(series[,2]))  \n",
    "  return(series)\n",
    "}\n",
    "\n",
    "dataset_stackedbar <- function() {\n",
    "  series <- read.table(text = \"x Map Reduce \n",
    "                          janeiro 10 5\n",
    "                          fevereiro 9 4\n",
    "                          março 11 5\n",
    "                          abril 8 4\n",
    "                          maio 12 6\",header = TRUE,sep = \"\")  \n",
    "  series <- melt(series[,c('x','Map','Reduce')],id.vars = 1)\n",
    "}\n"
   ]
  },
  {
   "cell_type": "markdown",
   "metadata": {},
   "source": [
    "## Exemplos"
   ]
  },
  {
   "cell_type": "markdown",
   "metadata": {},
   "source": [
    "Produção de gráficos de linhas. O dataset precisa ter os seguintes atributos: $x$ (eixo x), $variable$ (série) e $value$ (valores). \n",
    "\n",
    "A função $dataset\\_series()$ disponibilizada neste exemplo tem os metadados necessários para a produção deste gráfico. "
   ]
  },
  {
   "cell_type": "code",
   "execution_count": null,
   "metadata": {
    "collapsed": true
   },
   "outputs": [],
   "source": [
    "mycolors=c(\"darkblue\", \"darkred\", \"darkgreen\", \"orange\", \"purple\")\n",
    "\n",
    "series <- dataset_series()\n",
    "grf <- plot.series(series,colors=mycolors)\n",
    "grf"
   ]
  },
  {
   "cell_type": "markdown",
   "metadata": {},
   "source": [
    "Produção de gráficos de boxplot. O dataset precisa ter os seguintes atributos: $x$ (eixo x), $variable$ (barra) e $value$ (valores). \n",
    "\n",
    "A função $dataset\\_series()$ disponibilizada neste exemplo tem os metadados necessários para a produção deste gráfico. "
   ]
  },
  {
   "cell_type": "code",
   "execution_count": null,
   "metadata": {
    "collapsed": true
   },
   "outputs": [],
   "source": [
    "series <- dataset_series()\n",
    "grf <- plot.boxplot(series, colors=mycolors[1])\n",
    "grf"
   ]
  },
  {
   "cell_type": "markdown",
   "metadata": {},
   "source": [
    "Produção de gráficos de barras simples. O dataset precisa ter os seguintes atributos: $x$ (eixo x) e $value$ (valores). \n",
    "\n",
    "A função $dataset\\_bar()$ disponibilizada neste exemplo tem os metadados necessários para a produção deste gráfico. "
   ]
  },
  {
   "cell_type": "code",
   "execution_count": null,
   "metadata": {
    "collapsed": true
   },
   "outputs": [],
   "source": [
    "series <- dataset_bar()\n",
    "grf <- plot.bar(series, colors=mycolors)\n",
    "grf\n"
   ]
  },
  {
   "cell_type": "markdown",
   "metadata": {},
   "source": [
    "Produção de gráficos de barras lado a lado. O dataset precisa ter os seguintes atributos: $x$ (eixo x), $variable$ (colunas) e $value$ (valores). \n",
    "\n",
    "A função $dataset\\_stackedbar()$ disponibilizada neste exemplo tem os metadados necessários para a produção deste gráfico. "
   ]
  },
  {
   "cell_type": "code",
   "execution_count": null,
   "metadata": {
    "collapsed": true
   },
   "outputs": [],
   "source": [
    "series <- dataset_stackedbar()\n",
    "grf <- plot.bar(series, group=TRUE, colors=mycolors)\n",
    "grf\n"
   ]
  },
  {
   "cell_type": "markdown",
   "metadata": {},
   "source": [
    "Produção de gráficos de pilha. O dataset precisa ter os seguintes atributos: $x$ (eixo x), $variable$ (colunas) e $value$ (valores). \n",
    "\n",
    "A função $dataset\\_stackedbar()$ disponibilizada neste exemplo tem os metadados necessários para a produção deste gráfico. "
   ]
  },
  {
   "cell_type": "code",
   "execution_count": null,
   "metadata": {
    "collapsed": true,
    "scrolled": true
   },
   "outputs": [],
   "source": [
    "series <- dataset_stackedbar()\n",
    "grf <- plot.stackedbar(series, colors=mycolors)\n",
    "grf\n"
   ]
  },
  {
   "cell_type": "markdown",
   "metadata": {},
   "source": [
    "Produção de gráficos multi-face. O dataset precisa ter os seguintes atributos: $x$ (eixo x), $variable$ (colunas), $value$ (valores) e $face$ (agrupamento). \n",
    "\n",
    "O dataset $meses$ disponibilizado no GitHub tem os metadados necessários para a produção deste gráfico. "
   ]
  },
  {
   "cell_type": "code",
   "execution_count": null,
   "metadata": {
    "collapsed": true
   },
   "outputs": [],
   "source": [
    "con <- url(\"https://github.com/eogasawara/mylibrary/raw/master/meses.RData\")\n",
    "load(con)\n",
    "\n",
    "grf <- plot.bar(meses, group=TRUE, colors=mycolors)\n",
    "grf <- grf + xlab(\"\")\n",
    "grf <- grf + guides(fill=guide_legend(title=\"velocidade\"))\n",
    "grf <- grf + ylab(\"anomalias\")\n",
    "grf <- grf + facet_wrap(~face, ncol = 3) \n",
    "grf \n"
   ]
  },
  {
   "cell_type": "markdown",
   "metadata": {},
   "source": [
    "Armazenamento do gráfico produzido em PDF"
   ]
  },
  {
   "cell_type": "code",
   "execution_count": null,
   "metadata": {
    "collapsed": true
   },
   "outputs": [],
   "source": [
    "ggsave( \"myplot.pdf\", width = 5.5, height = 4)"
   ]
  }
 ],
 "metadata": {
  "kernelspec": {
   "display_name": "R",
   "language": "R",
   "name": "ir"
  },
  "language_info": {
   "codemirror_mode": "r",
   "file_extension": ".r",
   "mimetype": "text/x-r-source",
   "name": "R",
   "pygments_lexer": "r",
   "version": "3.3.2"
  }
 },
 "nbformat": 4,
 "nbformat_minor": 2
}
