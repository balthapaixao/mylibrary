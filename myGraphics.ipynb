{
 "cells": [
  {
   "cell_type": "markdown",
   "metadata": {},
   "source": [
    "# Some examples using ggplot2\n",
    "## Library\n",
    "The library myGraphics.R has a function named loadlibrary that is responsible for checking installed packages. Once the package is installed, it is loaded."
   ]
  },
  {
   "cell_type": "code",
   "execution_count": 12,
   "metadata": {},
   "outputs": [],
   "source": [
    "source(\"https://raw.githubusercontent.com/eogasawara/mylibrary/master/myGraphics.R\")\n",
    "loadlibrary(\"reshape\")\n",
    "loadlibrary(\"RColorBrewer\")\n",
    "loadlibrary(\"gridExtra\")\n",
    "loadlibrary(\"dplyr\")"
   ]
  },
  {
   "cell_type": "markdown",
   "metadata": {},
   "source": [
    "## Datasets for the examples\n",
    "\n",
    "This function presents some techniques for creating and merging datasets for ggplot usage. \n",
    "\n",
    "The first dataset is for sin and cos functions. \n",
    "\n",
    "The second dataset is a monthly time series.\n",
    "\n",
    "The third dataset creates a multivariate monthly time series. "
   ]
  },
  {
   "cell_type": "code",
   "execution_count": 4,
   "metadata": {
    "collapsed": true
   },
   "outputs": [],
   "source": [
    "create_datasets <- function() {\n",
    "  series <- data.frame(x= 1:10, sin=sin(1:10), cos=cos(1:10))\n",
    "  series <- melt(series[,c('x','sin','cos')],id.vars = 1)\n",
    "  sin_cos <- series\n",
    "  save(sin_cos, file=\"data/myGraphics-sin-cos.RData\") \n",
    "  \n",
    "  series <- matrix(nrow=5, ncol=2)\n",
    "  series[1,] = c(\"janeiro\", 10)\n",
    "  series[2,] = c(\"fevereiro\", 9)\n",
    "  series[3,] = c(\"março\", 11)\n",
    "  series[4,] = c(\"abril\", 8)\n",
    "  series[5,] = c(\"maio\", 12)\n",
    "  series <- data.frame(variable=as.factor(series[,1]), value=as.double(series[,2]))  \n",
    "  montly <- series\n",
    "  save(montly, file=\"data/myGraphics-montly.RData\") \n",
    "\n",
    "  series <- read.table(text = \"x Map Reduce \n",
    "                          janeiro 10 5\n",
    "                       fevereiro 9 4\n",
    "                       março 11 5\n",
    "                       abril 8 4\n",
    "                       maio 12 6\",header = TRUE,sep = \"\")  \n",
    "  series <- melt(series[,c('x','Map','Reduce')],id.vars = 1)\n",
    "  map_reduce <- series\n",
    "  save(map_reduce, file=\"data/myGraphics-map-reduce.RData\") \n",
    "}\n"
   ]
  },
  {
   "cell_type": "markdown",
   "metadata": {},
   "source": [
    "## Dataset loading and color generation\n",
    "\n",
    "The first block of code load five different datasets.\n",
    "\n",
    "The second block produces a random vector.\n",
    "\n",
    "The third block creates a color scale using color.brewer. "
   ]
  },
  {
   "cell_type": "code",
   "execution_count": 13,
   "metadata": {
    "collapsed": true
   },
   "outputs": [],
   "source": [
    "load(url(\"https://github.com/eogasawara/mylibrary/raw/master/data/myGraphics-sin-cos.RData\"))\n",
    "load(url(\"https://github.com/eogasawara/mylibrary/raw/master/data/myGraphics-montly.RData\"))\n",
    "load(url(\"https://github.com/eogasawara/mylibrary/raw/master/data/myGraphics-map-reduce.RData\"))\n",
    "load(url(\"https://github.com/eogasawara/mylibrary/raw/master/data/myGraphics-mobility.RData\"))\n",
    "\n",
    "mynorm <- data.frame(value=rnorm(10000))\n",
    "\n",
    "col.set <- brewer.pal(11, 'Spectral')\n",
    "mycolors <- col.set[c(1,3,5,7,9)]"
   ]
  },
  {
   "cell_type": "markdown",
   "metadata": {},
   "source": [
    "## ggplot graphs\n",
    "\n",
    "Mygraphics library has an easy API to build nice graphics. The usually requires a data.frame with four columns, which includes combinations of x, variable, value, and colors. The variable is a required parameter for all examples. \n"
   ]
  },
  {
   "cell_type": "markdown",
   "metadata": {},
   "source": [
    "line graph"
   ]
  },
  {
   "cell_type": "code",
   "execution_count": 14,
   "metadata": {},
   "outputs": [
    {
     "data": {
      "image/png": "[encoded data removed]",
      "text/plain": [
       "plot without title"
      ]
     },
     "metadata": {},
     "output_type": "display_data"
    }
   ],
   "source": [
    "grfs <- plot.series(sin_cos,colors=mycolors)\n",
    "options(repr.plot.width=4, repr.plot.height=3)\n",
    "plot(grfs)"
   ]
  },
  {
   "cell_type": "markdown",
   "metadata": {},
   "source": [
    "bar graph"
   ]
  },
  {
   "cell_type": "code",
   "execution_count": 7,
   "metadata": {},
   "outputs": [
    {
     "data": {
      "image/png": "[encoded data removed]",
      "text/plain": [
       "plot without title"
      ]
     },
     "metadata": {},
     "output_type": "display_data"
    }
   ],
   "source": [
    "grf <- plot.bar(montly, colors=mycolors)\n",
    "options(repr.plot.width=4, repr.plot.height=3)\n",
    "plot(grf)"
   ]
  },
  {
   "cell_type": "markdown",
   "metadata": {},
   "source": [
    "stacked-bar bar"
   ]
  },
  {
   "cell_type": "code",
   "execution_count": 15,
   "metadata": {},
   "outputs": [
    {
     "data": {
      "image/png": "[encoded data removed]",
      "text/plain": [
       "plot without title"
      ]
     },
     "metadata": {},
     "output_type": "display_data"
    }
   ],
   "source": [
    "grfb <- plot.bar(map_reduce, group=TRUE, colors=mycolors)\n",
    "grfsb <- plot.stackedbar(map_reduce, colors=mycolors)\n",
    "\n",
    "options(repr.plot.width=7, repr.plot.height=3)\n",
    "grid.arrange(grfb, grfsb, ncol=2)"
   ]
  },
  {
   "cell_type": "markdown",
   "metadata": {},
   "source": [
    "grouped bar graph"
   ]
  },
  {
   "cell_type": "code",
   "execution_count": 16,
   "metadata": {},
   "outputs": [
    {
     "data": {
      "image/png": "[encoded data removed]",
      "text/plain": [
       "plot without title"
      ]
     },
     "metadata": {},
     "output_type": "display_data"
    }
   ],
   "source": [
    "grfa <- plot.bar(mobility, group=TRUE, colors=mycolors)\n",
    "grfa <- grfa + xlab(\"\")\n",
    "grfa <- grfa + guides(fill=guide_legend(title=\"velocidade\"))\n",
    "grfa <- grfa + ylab(\"anomalias\")\n",
    "grfa <- grfa + facet_wrap(~face, ncol = 3) \n",
    "\n",
    "options(repr.plot.width=7, repr.plot.height=3)\n",
    "plot(grfa)"
   ]
  },
  {
   "cell_type": "markdown",
   "metadata": {},
   "source": [
    "pizza graph"
   ]
  },
  {
   "cell_type": "code",
   "execution_count": 17,
   "metadata": {},
   "outputs": [
    {
     "data": {
      "image/png": "[encoded data removed]",
      "text/plain": [
       "plot without title"
      ]
     },
     "metadata": {},
     "output_type": "display_data"
    }
   ],
   "source": [
    "mymeses <- filter(mobility, (face == \"julho\") & (variable == \"Maior\"))[, c(\"x\", \"value\")]\n",
    "names(mymeses) <- c(\"variable\", \"value\")\n",
    "mymeses$colors <- mycolors\n",
    "mymeses <- prepare.pieplot(mymeses)\n",
    "grfpie <- plot.pieplot(mymeses, label_x = \"julho\", colors=as.character(mymeses$colors))\n",
    "\n",
    "options(repr.plot.width=4, repr.plot.height=3)\n",
    "plot(grfpie)"
   ]
  },
  {
   "cell_type": "markdown",
   "metadata": {},
   "source": [
    "density plot"
   ]
  },
  {
   "cell_type": "code",
   "execution_count": 18,
   "metadata": {},
   "outputs": [
    {
     "ename": "ERROR",
     "evalue": "Error in data.frame(variable = meses$x, value = meses$value): objeto 'meses' não encontrado\n",
     "output_type": "error",
     "traceback": [
      "Error in data.frame(variable = meses$x, value = meses$value): objeto 'meses' não encontrado\nTraceback:\n",
      "1. data.frame(variable = meses$x, value = meses$value)"
     ]
    }
   ],
   "source": [
    "series <- data.frame(variable=meses$x, value=meses$value)\n",
    "grfgd <- plot.density(series, label_series = \"distribuição\", colors=mycolors)\n",
    "options(repr.plot.width=4, repr.plot.height=3)\n",
    "plot(grfgd)"
   ]
  },
  {
   "cell_type": "markdown",
   "metadata": {},
   "source": [
    "Histogram"
   ]
  },
  {
   "cell_type": "code",
   "execution_count": null,
   "metadata": {},
   "outputs": [],
   "source": [
    "grfgh <- plot.hist(mynorm, label_series = \"distribuição\", colors=mycolors[1])\n",
    "options(repr.plot.width=4, repr.plot.height=3)\n",
    "plot(grfgh)"
   ]
  },
  {
   "cell_type": "markdown",
   "metadata": {},
   "source": [
    "Box-plot"
   ]
  },
  {
   "cell_type": "code",
   "execution_count": null,
   "metadata": {},
   "outputs": [],
   "source": [
    "grfb <- plot.boxplot(sin_cos, colors=mycolors[1:2])\n",
    "options(repr.plot.width=4, repr.plot.height=3)\n",
    "plot(grfb)"
   ]
  },
  {
   "cell_type": "markdown",
   "metadata": {},
   "source": [
    "## Building PDF from graphics"
   ]
  },
  {
   "cell_type": "code",
   "execution_count": null,
   "metadata": {
    "scrolled": true
   },
   "outputs": [],
   "source": [
    "pdf(\"examples/plot.pdf\", width=7, height=3)\n",
    "plot(grfa)\n",
    "dev.off()"
   ]
  },
  {
   "cell_type": "code",
   "execution_count": null,
   "metadata": {
    "collapsed": true
   },
   "outputs": [],
   "source": []
  }
 ],
 "metadata": {
  "kernelspec": {
   "display_name": "R",
   "language": "R",
   "name": "ir"
  },
  "language_info": {
   "codemirror_mode": "r",
   "file_extension": ".r",
   "mimetype": "text/x-r-source",
   "name": "R",
   "pygments_lexer": "r",
   "version": "3.5.0"
  }
 },
 "nbformat": 4,
 "nbformat_minor": 2
}
